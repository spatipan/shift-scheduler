{
 "cells": [
  {
   "cell_type": "code",
   "execution_count": 1,
   "metadata": {},
   "outputs": [],
   "source": [
    "from datetime import datetime, timedelta\n",
    "import pandas as pd\n",
    "import plotly.figure_factory as ff\n",
    "from ortools.sat.python import cp_model\n",
    "from bisect import bisect_left, bisect_right\n",
    "import matplotlib.pyplot as plt\n",
    "import numpy as np\n",
    "import plotly.express as px\n",
    "import unittest\n",
    "# from src.objects.timeinterval import *\n",
    "# from src.utils.utils import *\n",
    "import uuid"
   ]
  },
  {
   "cell_type": "code",
   "execution_count": 2,
   "metadata": {},
   "outputs": [
    {
     "data": {
      "application/vnd.plotly.v1+json": {
       "config": {
        "plotlyServerURL": "https://plot.ly"
       },
       "data": [
        {
         "alignmentgroup": "True",
         "base": [
          "2023-02-01T10:00:00",
          "2023-02-01T12:00:00",
          "2023-02-01T14:00:00"
         ],
         "hovertemplate": "Start=%{base}<br>Finish=%{x}<br>Task=%{y}<extra></extra>",
         "legendgroup": "",
         "marker": {
          "color": "#636efa",
          "pattern": {
           "shape": ""
          }
         },
         "name": "",
         "offsetgroup": "",
         "orientation": "h",
         "showlegend": false,
         "textposition": "auto",
         "type": "bar",
         "x": [
          3600000,
          3600000,
          7200000
         ],
         "xaxis": "x",
         "y": [
          "Time Intervals",
          "Time Intervals",
          "Time Intervals"
         ],
         "yaxis": "y"
        }
       ],
       "layout": {
        "barmode": "overlay",
        "height": 300,
        "legend": {
         "tracegroupgap": 0
        },
        "margin": {
         "b": 0,
         "l": 0,
         "r": 0,
         "t": 30
        },
        "template": {
         "data": {
          "bar": [
           {
            "error_x": {
             "color": "#2a3f5f"
            },
            "error_y": {
             "color": "#2a3f5f"
            },
            "marker": {
             "line": {
              "color": "#E5ECF6",
              "width": 0.5
             },
             "pattern": {
              "fillmode": "overlay",
              "size": 10,
              "solidity": 0.2
             }
            },
            "type": "bar"
           }
          ],
          "barpolar": [
           {
            "marker": {
             "line": {
              "color": "#E5ECF6",
              "width": 0.5
             },
             "pattern": {
              "fillmode": "overlay",
              "size": 10,
              "solidity": 0.2
             }
            },
            "type": "barpolar"
           }
          ],
          "carpet": [
           {
            "aaxis": {
             "endlinecolor": "#2a3f5f",
             "gridcolor": "white",
             "linecolor": "white",
             "minorgridcolor": "white",
             "startlinecolor": "#2a3f5f"
            },
            "baxis": {
             "endlinecolor": "#2a3f5f",
             "gridcolor": "white",
             "linecolor": "white",
             "minorgridcolor": "white",
             "startlinecolor": "#2a3f5f"
            },
            "type": "carpet"
           }
          ],
          "choropleth": [
           {
            "colorbar": {
             "outlinewidth": 0,
             "ticks": ""
            },
            "type": "choropleth"
           }
          ],
          "contour": [
           {
            "colorbar": {
             "outlinewidth": 0,
             "ticks": ""
            },
            "colorscale": [
             [
              0,
              "#0d0887"
             ],
             [
              0.1111111111111111,
              "#46039f"
             ],
             [
              0.2222222222222222,
              "#7201a8"
             ],
             [
              0.3333333333333333,
              "#9c179e"
             ],
             [
              0.4444444444444444,
              "#bd3786"
             ],
             [
              0.5555555555555556,
              "#d8576b"
             ],
             [
              0.6666666666666666,
              "#ed7953"
             ],
             [
              0.7777777777777778,
              "#fb9f3a"
             ],
             [
              0.8888888888888888,
              "#fdca26"
             ],
             [
              1,
              "#f0f921"
             ]
            ],
            "type": "contour"
           }
          ],
          "contourcarpet": [
           {
            "colorbar": {
             "outlinewidth": 0,
             "ticks": ""
            },
            "type": "contourcarpet"
           }
          ],
          "heatmap": [
           {
            "colorbar": {
             "outlinewidth": 0,
             "ticks": ""
            },
            "colorscale": [
             [
              0,
              "#0d0887"
             ],
             [
              0.1111111111111111,
              "#46039f"
             ],
             [
              0.2222222222222222,
              "#7201a8"
             ],
             [
              0.3333333333333333,
              "#9c179e"
             ],
             [
              0.4444444444444444,
              "#bd3786"
             ],
             [
              0.5555555555555556,
              "#d8576b"
             ],
             [
              0.6666666666666666,
              "#ed7953"
             ],
             [
              0.7777777777777778,
              "#fb9f3a"
             ],
             [
              0.8888888888888888,
              "#fdca26"
             ],
             [
              1,
              "#f0f921"
             ]
            ],
            "type": "heatmap"
           }
          ],
          "heatmapgl": [
           {
            "colorbar": {
             "outlinewidth": 0,
             "ticks": ""
            },
            "colorscale": [
             [
              0,
              "#0d0887"
             ],
             [
              0.1111111111111111,
              "#46039f"
             ],
             [
              0.2222222222222222,
              "#7201a8"
             ],
             [
              0.3333333333333333,
              "#9c179e"
             ],
             [
              0.4444444444444444,
              "#bd3786"
             ],
             [
              0.5555555555555556,
              "#d8576b"
             ],
             [
              0.6666666666666666,
              "#ed7953"
             ],
             [
              0.7777777777777778,
              "#fb9f3a"
             ],
             [
              0.8888888888888888,
              "#fdca26"
             ],
             [
              1,
              "#f0f921"
             ]
            ],
            "type": "heatmapgl"
           }
          ],
          "histogram": [
           {
            "marker": {
             "pattern": {
              "fillmode": "overlay",
              "size": 10,
              "solidity": 0.2
             }
            },
            "type": "histogram"
           }
          ],
          "histogram2d": [
           {
            "colorbar": {
             "outlinewidth": 0,
             "ticks": ""
            },
            "colorscale": [
             [
              0,
              "#0d0887"
             ],
             [
              0.1111111111111111,
              "#46039f"
             ],
             [
              0.2222222222222222,
              "#7201a8"
             ],
             [
              0.3333333333333333,
              "#9c179e"
             ],
             [
              0.4444444444444444,
              "#bd3786"
             ],
             [
              0.5555555555555556,
              "#d8576b"
             ],
             [
              0.6666666666666666,
              "#ed7953"
             ],
             [
              0.7777777777777778,
              "#fb9f3a"
             ],
             [
              0.8888888888888888,
              "#fdca26"
             ],
             [
              1,
              "#f0f921"
             ]
            ],
            "type": "histogram2d"
           }
          ],
          "histogram2dcontour": [
           {
            "colorbar": {
             "outlinewidth": 0,
             "ticks": ""
            },
            "colorscale": [
             [
              0,
              "#0d0887"
             ],
             [
              0.1111111111111111,
              "#46039f"
             ],
             [
              0.2222222222222222,
              "#7201a8"
             ],
             [
              0.3333333333333333,
              "#9c179e"
             ],
             [
              0.4444444444444444,
              "#bd3786"
             ],
             [
              0.5555555555555556,
              "#d8576b"
             ],
             [
              0.6666666666666666,
              "#ed7953"
             ],
             [
              0.7777777777777778,
              "#fb9f3a"
             ],
             [
              0.8888888888888888,
              "#fdca26"
             ],
             [
              1,
              "#f0f921"
             ]
            ],
            "type": "histogram2dcontour"
           }
          ],
          "mesh3d": [
           {
            "colorbar": {
             "outlinewidth": 0,
             "ticks": ""
            },
            "type": "mesh3d"
           }
          ],
          "parcoords": [
           {
            "line": {
             "colorbar": {
              "outlinewidth": 0,
              "ticks": ""
             }
            },
            "type": "parcoords"
           }
          ],
          "pie": [
           {
            "automargin": true,
            "type": "pie"
           }
          ],
          "scatter": [
           {
            "fillpattern": {
             "fillmode": "overlay",
             "size": 10,
             "solidity": 0.2
            },
            "type": "scatter"
           }
          ],
          "scatter3d": [
           {
            "line": {
             "colorbar": {
              "outlinewidth": 0,
              "ticks": ""
             }
            },
            "marker": {
             "colorbar": {
              "outlinewidth": 0,
              "ticks": ""
             }
            },
            "type": "scatter3d"
           }
          ],
          "scattercarpet": [
           {
            "marker": {
             "colorbar": {
              "outlinewidth": 0,
              "ticks": ""
             }
            },
            "type": "scattercarpet"
           }
          ],
          "scattergeo": [
           {
            "marker": {
             "colorbar": {
              "outlinewidth": 0,
              "ticks": ""
             }
            },
            "type": "scattergeo"
           }
          ],
          "scattergl": [
           {
            "marker": {
             "colorbar": {
              "outlinewidth": 0,
              "ticks": ""
             }
            },
            "type": "scattergl"
           }
          ],
          "scattermapbox": [
           {
            "marker": {
             "colorbar": {
              "outlinewidth": 0,
              "ticks": ""
             }
            },
            "type": "scattermapbox"
           }
          ],
          "scatterpolar": [
           {
            "marker": {
             "colorbar": {
              "outlinewidth": 0,
              "ticks": ""
             }
            },
            "type": "scatterpolar"
           }
          ],
          "scatterpolargl": [
           {
            "marker": {
             "colorbar": {
              "outlinewidth": 0,
              "ticks": ""
             }
            },
            "type": "scatterpolargl"
           }
          ],
          "scatterternary": [
           {
            "marker": {
             "colorbar": {
              "outlinewidth": 0,
              "ticks": ""
             }
            },
            "type": "scatterternary"
           }
          ],
          "surface": [
           {
            "colorbar": {
             "outlinewidth": 0,
             "ticks": ""
            },
            "colorscale": [
             [
              0,
              "#0d0887"
             ],
             [
              0.1111111111111111,
              "#46039f"
             ],
             [
              0.2222222222222222,
              "#7201a8"
             ],
             [
              0.3333333333333333,
              "#9c179e"
             ],
             [
              0.4444444444444444,
              "#bd3786"
             ],
             [
              0.5555555555555556,
              "#d8576b"
             ],
             [
              0.6666666666666666,
              "#ed7953"
             ],
             [
              0.7777777777777778,
              "#fb9f3a"
             ],
             [
              0.8888888888888888,
              "#fdca26"
             ],
             [
              1,
              "#f0f921"
             ]
            ],
            "type": "surface"
           }
          ],
          "table": [
           {
            "cells": {
             "fill": {
              "color": "#EBF0F8"
             },
             "line": {
              "color": "white"
             }
            },
            "header": {
             "fill": {
              "color": "#C8D4E3"
             },
             "line": {
              "color": "white"
             }
            },
            "type": "table"
           }
          ]
         },
         "layout": {
          "annotationdefaults": {
           "arrowcolor": "#2a3f5f",
           "arrowhead": 0,
           "arrowwidth": 1
          },
          "autotypenumbers": "strict",
          "coloraxis": {
           "colorbar": {
            "outlinewidth": 0,
            "ticks": ""
           }
          },
          "colorscale": {
           "diverging": [
            [
             0,
             "#8e0152"
            ],
            [
             0.1,
             "#c51b7d"
            ],
            [
             0.2,
             "#de77ae"
            ],
            [
             0.3,
             "#f1b6da"
            ],
            [
             0.4,
             "#fde0ef"
            ],
            [
             0.5,
             "#f7f7f7"
            ],
            [
             0.6,
             "#e6f5d0"
            ],
            [
             0.7,
             "#b8e186"
            ],
            [
             0.8,
             "#7fbc41"
            ],
            [
             0.9,
             "#4d9221"
            ],
            [
             1,
             "#276419"
            ]
           ],
           "sequential": [
            [
             0,
             "#0d0887"
            ],
            [
             0.1111111111111111,
             "#46039f"
            ],
            [
             0.2222222222222222,
             "#7201a8"
            ],
            [
             0.3333333333333333,
             "#9c179e"
            ],
            [
             0.4444444444444444,
             "#bd3786"
            ],
            [
             0.5555555555555556,
             "#d8576b"
            ],
            [
             0.6666666666666666,
             "#ed7953"
            ],
            [
             0.7777777777777778,
             "#fb9f3a"
            ],
            [
             0.8888888888888888,
             "#fdca26"
            ],
            [
             1,
             "#f0f921"
            ]
           ],
           "sequentialminus": [
            [
             0,
             "#0d0887"
            ],
            [
             0.1111111111111111,
             "#46039f"
            ],
            [
             0.2222222222222222,
             "#7201a8"
            ],
            [
             0.3333333333333333,
             "#9c179e"
            ],
            [
             0.4444444444444444,
             "#bd3786"
            ],
            [
             0.5555555555555556,
             "#d8576b"
            ],
            [
             0.6666666666666666,
             "#ed7953"
            ],
            [
             0.7777777777777778,
             "#fb9f3a"
            ],
            [
             0.8888888888888888,
             "#fdca26"
            ],
            [
             1,
             "#f0f921"
            ]
           ]
          },
          "colorway": [
           "#636efa",
           "#EF553B",
           "#00cc96",
           "#ab63fa",
           "#FFA15A",
           "#19d3f3",
           "#FF6692",
           "#B6E880",
           "#FF97FF",
           "#FECB52"
          ],
          "font": {
           "color": "#2a3f5f"
          },
          "geo": {
           "bgcolor": "white",
           "lakecolor": "white",
           "landcolor": "#E5ECF6",
           "showlakes": true,
           "showland": true,
           "subunitcolor": "white"
          },
          "hoverlabel": {
           "align": "left"
          },
          "hovermode": "closest",
          "mapbox": {
           "style": "light"
          },
          "paper_bgcolor": "white",
          "plot_bgcolor": "#E5ECF6",
          "polar": {
           "angularaxis": {
            "gridcolor": "white",
            "linecolor": "white",
            "ticks": ""
           },
           "bgcolor": "#E5ECF6",
           "radialaxis": {
            "gridcolor": "white",
            "linecolor": "white",
            "ticks": ""
           }
          },
          "scene": {
           "xaxis": {
            "backgroundcolor": "#E5ECF6",
            "gridcolor": "white",
            "gridwidth": 2,
            "linecolor": "white",
            "showbackground": true,
            "ticks": "",
            "zerolinecolor": "white"
           },
           "yaxis": {
            "backgroundcolor": "#E5ECF6",
            "gridcolor": "white",
            "gridwidth": 2,
            "linecolor": "white",
            "showbackground": true,
            "ticks": "",
            "zerolinecolor": "white"
           },
           "zaxis": {
            "backgroundcolor": "#E5ECF6",
            "gridcolor": "white",
            "gridwidth": 2,
            "linecolor": "white",
            "showbackground": true,
            "ticks": "",
            "zerolinecolor": "white"
           }
          },
          "shapedefaults": {
           "line": {
            "color": "#2a3f5f"
           }
          },
          "ternary": {
           "aaxis": {
            "gridcolor": "white",
            "linecolor": "white",
            "ticks": ""
           },
           "baxis": {
            "gridcolor": "white",
            "linecolor": "white",
            "ticks": ""
           },
           "bgcolor": "#E5ECF6",
           "caxis": {
            "gridcolor": "white",
            "linecolor": "white",
            "ticks": ""
           }
          },
          "title": {
           "x": 0.05
          },
          "xaxis": {
           "automargin": true,
           "gridcolor": "white",
           "linecolor": "white",
           "ticks": "",
           "title": {
            "standoff": 15
           },
           "zerolinecolor": "white",
           "zerolinewidth": 2
          },
          "yaxis": {
           "automargin": true,
           "gridcolor": "white",
           "linecolor": "white",
           "ticks": "",
           "title": {
            "standoff": 15
           },
           "zerolinecolor": "white",
           "zerolinewidth": 2
          }
         }
        },
        "title": {
         "text": "Time Intervals"
        },
        "xaxis": {
         "anchor": "y",
         "domain": [
          0,
          1
         ],
         "showgrid": true,
         "showticklabels": true,
         "type": "date"
        },
        "yaxis": {
         "anchor": "x",
         "autorange": "reversed",
         "domain": [
          0,
          1
         ],
         "showgrid": false,
         "showticklabels": true,
         "title": {
          "text": "Task"
         }
        }
       }
      }
     },
     "metadata": {},
     "output_type": "display_data"
    }
   ],
   "source": [
    "intervals = TimeIntervals([TimeInterval(datetime(2023, 2, 1, 10), datetime(2023, 2, 1, 11)),\n",
    "                           TimeInterval(datetime(2023, 2, 1, 12), datetime(2023, 2, 1, 13)),\n",
    "                           TimeInterval(datetime(2023, 2, 1, 14), datetime(2023, 2, 1, 16))])\n",
    "intervals.visualize_gantt()\n"
   ]
  },
  {
   "cell_type": "code",
   "execution_count": null,
   "metadata": {},
   "outputs": [],
   "source": []
  },
  {
   "cell_type": "code",
   "execution_count": null,
   "metadata": {},
   "outputs": [],
   "source": [
    "# Design classes for Shift scheduling problem (Employee, Shift, Schedule)\n",
    "\n",
    "# Employee class\n",
    "# Attributes: name: str, availability: TimeIntervals, assigned shifts: list of Shifts\n",
    "# Methods: change_availability, change_name\n",
    "\n",
    "# Shift class\n",
    "# Attributes: name: str, type: str, interval: TimeInterval, min employees: int, max employees: int, assigned employees: list of Employees\n",
    "# Methods: assign_employee, unassign_employee, change_interval, change_min_employees, change_max_employees, change_name, change_type\n",
    "\n",
    "# Single Shift class, which inherits from the Shift class\n",
    "# Attributes: None\n",
    "# Methods: None\n",
    "\n",
    "# Recurring Shift class, which inherits from the Shift class\n",
    "# Attributes: recurrence interval: timedelta, start date: datetime, end date: datetime, recurrence shifts: list of Shifts\n",
    "# Methods: get_recurrence_intervals, change_recurrence_interval, change_start_date, change_end_date, get_recurrence_shifts (returns a list of Shifts)\n",
    "\n",
    "# Schedule class\n",
    "# Attributes: name: str, employees: list of Employees, shifts: list of Shifts, shift types: list of str, start time: datetime, end time: datetime\n",
    "# Methods: add_employee, add_shift, reset, change_name, show, change_start_time, change_end_time, solve (solve the shift scheduling problem with OR-Tools and return the solution)\n",
    "\n"
   ]
  },
  {
   "cell_type": "code",
   "execution_count": 35,
   "metadata": {},
   "outputs": [],
   "source": [
    "class TimeInterval:\n",
    "    def __init__(self, start: datetime, end: datetime):\n",
    "        assert start < end, 'start must be less than end'\n",
    "        self._start = start\n",
    "        self._end = end\n",
    "\n",
    "    @property\n",
    "    def start(self):\n",
    "        return self._start\n",
    "\n",
    "    @start.setter\n",
    "    def start(self, start: datetime):\n",
    "        self._start = start\n",
    "\n",
    "    @property\n",
    "    def end(self):\n",
    "        return self._end\n",
    "\n",
    "    @end.setter\n",
    "    def end(self, end: datetime):\n",
    "        self._end = end\n",
    "\n",
    "    def __repr__(self) -> str:\n",
    "        return f'TimeInterval({self.start}, {self.end})'\n",
    "\n",
    "    def __str__(self) -> str:\n",
    "        return f'{self.start} - {self.end}'\n",
    "\n",
    "    def __eq__(self, other) -> bool:\n",
    "        assert isinstance(other, TimeInterval), 'compared object must be of type TimeInterval'\n",
    "        return self.start == other.start and self.end == other.end\n",
    "\n",
    "    def overlaps(self, other) -> bool:\n",
    "        return self.start < other.end and self.end > other.start\n",
    "\n",
    "    def contains(self, other) -> bool:\n",
    "        return self.start <= other.start and self.end >= other.end\n",
    "\n",
    "    def __contains__(self, other) -> bool:\n",
    "        return self.contains(other)\n",
    "\n",
    "    def __add__(self, other) -> list:\n",
    "        \"\"\"\n",
    "        Returns a list of TimeIntervals that are the union of self and other\n",
    "        \"\"\"\n",
    "        if self.overlaps(other):\n",
    "            return [TimeInterval(min(self.start, other.start), max(self.end, other.end))]\n",
    "        else:\n",
    "            return [self, other]\n",
    "\n",
    "    def __sub__(self, other) -> list:\n",
    "        \"\"\"\n",
    "        Returns a list of TimeIntervals that are the difference of self and other\n",
    "        \"\"\"\n",
    "        if self.overlaps(other):\n",
    "            if self.start < other.start:\n",
    "                return [TimeInterval(self.start, other.start)]\n",
    "            elif self.end > other.end:\n",
    "                return [TimeInterval(other.end, self.end)]\n",
    "            else:\n",
    "                return []\n",
    "        else:\n",
    "            return [self]\n",
    "\n",
    "    def copy(self):\n",
    "        return TimeInterval(self.start, self.end)\n",
    "\n",
    "\n",
    "\n",
    "class TimeIntervals:\n",
    "    \"\"\"\n",
    "    A class representing a list of time intervals, sorted by start time, and merged if necessary (no overlapping intervals)\n",
    "    \"\"\"\n",
    "\n",
    "    def __init__(self, intervals: list = []):\n",
    "        assert all([isinstance(interval, TimeInterval) for interval in intervals]), 'All elements in the list must be of type TimeInterval'\n",
    "        self._intervals = self._merge(intervals)\n",
    "\n",
    "    def __repr__(self) -> str:\n",
    "        return f'TimeIntervals({self._intervals})'\n",
    "\n",
    "    @staticmethod\n",
    "    def _sort(intervals: list):\n",
    "        intervals.sort(key=lambda x: x.start)\n",
    "        return intervals\n",
    "    \n",
    "    @staticmethod\n",
    "    def _merge(intervals: list):\n",
    "        intervals = TimeIntervals._sort(intervals.copy())\n",
    "        merged = []\n",
    "        for interval in intervals:\n",
    "            if not merged or merged[-1].end < interval.start:\n",
    "                merged.append(interval)\n",
    "            else:\n",
    "                merged[-1].end = max(merged[-1].end, interval.end)\n",
    "        return merged\n",
    "\n",
    "    @property\n",
    "    def intervals(self):\n",
    "        return self._intervals\n",
    "\n",
    "    @intervals.setter\n",
    "    def intervals(self, intervals: list):\n",
    "        self._intervals = TimeIntervals._merge(intervals)\n",
    "\n",
    "    def __eq__(self, other) -> bool:\n",
    "        assert isinstance(other, TimeIntervals), 'compared object must be of type TimeIntervals'\n",
    "        return self._intervals == other._intervals\n",
    "\n",
    "    def add(self, interval: TimeInterval):\n",
    "        self._intervals = TimeIntervals._merge(self._intervals + [interval.copy()])\n",
    "\n",
    "    def remove(self, interval: TimeInterval):\n",
    "        self._intervals = self._subtract(self._intervals, interval)\n",
    "\n",
    "    @staticmethod\n",
    "    def _subtract(intervals: list, interval: TimeInterval):\n",
    "        intervals = TimeIntervals._sort(intervals)\n",
    "        subtracted = []\n",
    "        for i in intervals:\n",
    "            if i.overlaps(interval):\n",
    "                if i.start < interval.start:\n",
    "                    subtracted.append(TimeInterval(i.start, interval.start))\n",
    "                if i.end > interval.end:\n",
    "                    subtracted.append(TimeInterval(interval.end, i.end))\n",
    "            else:\n",
    "                subtracted.append(i)\n",
    "        return subtracted\n",
    "\n",
    "    def __add__(self, other) -> list: # type: ignore        \n",
    "        \"\"\"\n",
    "        Returns TimeIntervals that are the union of self and other\n",
    "        \"\"\"\n",
    "        if isinstance(other, TimeIntervals):\n",
    "            return TimeIntervals(self.intervals + other.intervals) # type: ignore\n",
    "        elif isinstance(other, TimeInterval):\n",
    "            return TimeIntervals(self.intervals + [other]) # type: ignore\n",
    "        else:\n",
    "            raise TypeError('other must be of type TimeIntervals or TimeInterval')\n",
    "\n",
    "    def __sub__(self, other) -> list:\n",
    "        \"\"\"\n",
    "        Returns a list of TimeIntervals that are the difference of self and other\n",
    "        \"\"\"\n",
    "        if isinstance(other, TimeIntervals):\n",
    "            return TimeIntervals._subtract(self.intervals, other.intervals) # type: ignore \n",
    "        elif isinstance(other, TimeInterval):\n",
    "            return TimeIntervals._subtract(self.intervals, other)\n",
    "        else:\n",
    "            raise TypeError('other must be of type TimeIntervals or TimeInterval')\n",
    "\n",
    "    \n",
    "    # overlaps with another TimeIntervals object or a TimeInterval object\n",
    "    def overlaps(self, other) -> bool:\n",
    "        if isinstance(other, TimeIntervals):\n",
    "            for interval in self.intervals:\n",
    "                for other_interval in other.intervals:\n",
    "                    if interval.overlaps(other_interval):\n",
    "                        return True\n",
    "            return False\n",
    "        elif isinstance(other, TimeInterval):\n",
    "            for interval in self.intervals:\n",
    "                if interval.overlaps(other):\n",
    "                    return True\n",
    "            return False\n",
    "        else:\n",
    "            raise TypeError('other must be of type TimeIntervals or TimeInterval')\n",
    "\n",
    "    # contains another TimeIntervals object or a TimeInterval object\n",
    "    def contains(self, other) -> bool:\n",
    "        if isinstance(other, TimeIntervals):\n",
    "            for interval in other.intervals:\n",
    "                if not self.contains(interval):\n",
    "                    return False\n",
    "            return True\n",
    "        elif isinstance(other, TimeInterval):\n",
    "            for interval in self.intervals:\n",
    "                if interval.contains(other):\n",
    "                    return True\n",
    "            return False\n",
    "        else:\n",
    "            raise TypeError('other must be of type TimeIntervals or TimeInterval')\n",
    "\n",
    "    def __contains__(self, other) -> bool:\n",
    "        assert isinstance(other, TimeIntervals) or isinstance(other, TimeInterval), 'other must be of type TimeIntervals or TimeInterval'\n",
    "        return self.contains(other)\n",
    "\n",
    "\n",
    "\n",
    "    "
   ]
  },
  {
   "cell_type": "code",
   "execution_count": 38,
   "metadata": {},
   "outputs": [
    {
     "name": "stderr",
     "output_type": "stream",
     "text": [
      "test_add_availability (__main__.TestEmployee) ... FAIL\n",
      "test_init (__main__.TestEmployee) ... ok\n",
      "test_remove_availability (__main__.TestEmployee) ... ERROR\n",
      "test_contains (__main__.TestTimeInterval) ... ok\n",
      "test_init (__main__.TestTimeInterval) ... ok\n",
      "test_overlaps (__main__.TestTimeInterval) ... ok\n",
      "test_subtraction (__main__.TestTimeInterval) ... ok\n",
      "test_add (__main__.TestTimeIntervals) ... FAIL\n",
      "test_eq (__main__.TestTimeIntervals) ... ok\n",
      "test_init (__main__.TestTimeIntervals) ... ok\n",
      "test_remove (__main__.TestTimeIntervals) ... ok\n",
      "\n",
      "======================================================================\n",
      "ERROR: test_remove_availability (__main__.TestEmployee)\n",
      "----------------------------------------------------------------------\n",
      "Traceback (most recent call last):\n",
      "  File \"/var/folders/qm/hc980d_116zfqwx_9dxh3dmm0000gn/T/ipykernel_58110/2286337519.py\", line 49, in test_remove_availability\n",
      "    self.assertEqual(self.emp.availability, self.intervals2 + self.intervals3)\n",
      "  File \"/var/folders/qm/hc980d_116zfqwx_9dxh3dmm0000gn/T/ipykernel_58110/1319616489.py\", line 139, in __add__\n",
      "    raise TypeError('other must be of type TimeIntervals or TimeInterval')\n",
      "TypeError: other must be of type TimeIntervals or TimeInterval\n",
      "\n",
      "======================================================================\n",
      "FAIL: test_add_availability (__main__.TestEmployee)\n",
      "----------------------------------------------------------------------\n",
      "Traceback (most recent call last):\n",
      "  File \"/var/folders/qm/hc980d_116zfqwx_9dxh3dmm0000gn/T/ipykernel_58110/2286337519.py\", line 29, in test_add_availability\n",
      "    self.assertEqual(self.emp.availability, self.intervals1)\n",
      "AssertionError: compared object must be of type TimeIntervals\n",
      "\n",
      "======================================================================\n",
      "FAIL: test_add (__main__.TestTimeIntervals)\n",
      "----------------------------------------------------------------------\n",
      "Traceback (most recent call last):\n",
      "  File \"/var/folders/qm/hc980d_116zfqwx_9dxh3dmm0000gn/T/ipykernel_58110/1363602353.py\", line 17, in test_add\n",
      "    self.assertEqual(intervals.intervals, [TimeInterval(datetime(2023, 2, 1, 10), datetime(2023, 2, 1, 13))])\n",
      "AssertionError: Lists differ: [TimeInterval(2023-02-01 10:00:00, 2023-02-01 14:00:00)] != [TimeInterval(2023-02-01 10:00:00, 2023-02-01 13:00:00)]\n",
      "\n",
      "First differing element 0:\n",
      "TimeInterval(2023-02-01 10:00:00, 2023-02-01 14:00:00)\n",
      "TimeInterval(2023-02-01 10:00:00, 2023-02-01 13:00:00)\n",
      "\n",
      "- [TimeInterval(2023-02-01 10:00:00, 2023-02-01 14:00:00)]\n",
      "?                                                ^\n",
      "\n",
      "+ [TimeInterval(2023-02-01 10:00:00, 2023-02-01 13:00:00)]\n",
      "?                                                ^\n",
      "\n",
      "\n",
      "----------------------------------------------------------------------\n",
      "Ran 11 tests in 0.010s\n",
      "\n",
      "FAILED (failures=2, errors=1)\n"
     ]
    },
    {
     "name": "stdout",
     "output_type": "stream",
     "text": [
      "2021-01-01 08:00:00 - 2021-01-01 13:00:00\n",
      "TimeIntervals([])\n",
      "TimeIntervals([TimeInterval(2021-01-01 08:00:00, 2021-01-01 13:00:00)])\n",
      "TimeIntervals([TimeInterval(2021-01-01 08:00:00, 2021-01-01 17:00:00)])\n",
      "TimeIntervals([TimeInterval(2021-01-01 08:00:00, 2021-01-01 17:00:00)])\n",
      "TimeIntervals([TimeInterval(2021-01-01 13:00:00, 2021-01-01 17:00:00)])\n"
     ]
    },
    {
     "data": {
      "text/plain": [
       "<unittest.main.TestProgram at 0x1372cf4c0>"
      ]
     },
     "execution_count": 38,
     "metadata": {},
     "output_type": "execute_result"
    }
   ],
   "source": [
    "# Test the TimeInterval classes\n",
    "# 1. test initialization\n",
    "# 2. test overlaps\n",
    "# 3. test contains\n",
    "# 4. test subtraction\n",
    "# 5. test addition\n",
    "\n",
    "class TestTimeInterval(unittest.TestCase):\n",
    "    dt1 = datetime(2023, 2, 1, 10)\n",
    "    dt2 = datetime(2023, 2, 1, 11)\n",
    "    dt3 = datetime(2023, 2, 1, 12)\n",
    "    dt4 = datetime(2023, 2, 1, 13)\n",
    "\n",
    "    ti1 = TimeInterval(dt1, dt2)\n",
    "    ti2 = TimeInterval(dt2, dt3)\n",
    "    ti3 = TimeInterval(dt3, dt4)\n",
    "    ti4 = TimeInterval(dt1, dt4)\n",
    "    ti5 = TimeInterval(dt1, dt3)\n",
    "    ti6 = TimeInterval(dt2, dt4)\n",
    "\n",
    "\n",
    "    def test_init(self):\n",
    "        self.assertEqual(self.ti1.start, self.dt1)\n",
    "        self.assertEqual(self.ti1.end, self.dt2)\n",
    "    \n",
    "    def test_overlaps(self):\n",
    "        self.assertTrue(self.ti1.overlaps(self.ti4))\n",
    "        self.assertTrue(self.ti4.overlaps(self.ti1))\n",
    "        self.assertTrue(self.ti5.overlaps(self.ti6))\n",
    "        self.assertTrue(self.ti6.overlaps(self.ti5))\n",
    "        self.assertFalse(self.ti1.overlaps(self.ti2))\n",
    "        self.assertFalse(self.ti2.overlaps(self.ti1))\n",
    "        self.assertFalse(self.ti1.overlaps(self.ti3))\n",
    "        self.assertFalse(self.ti3.overlaps(self.ti1))\n",
    "\n",
    "\n",
    "    def test_contains(self):\n",
    "        self.assertTrue(self.ti4.contains(self.ti1))\n",
    "        self.assertTrue(self.ti4.contains(self.ti2))\n",
    "        self.assertFalse(self.ti1.contains(self.ti4))\n",
    "        self.assertFalse(self.ti2.contains(self.ti4))\n",
    "        self.assertFalse(self.ti1.contains(self.ti2))\n",
    "        self.assertFalse(self.ti2.contains(self.ti1))\n",
    "        self.assertTrue(self.ti1.contains(self.ti1))\n",
    "\n",
    "    def test_subtraction(self):\n",
    "        self.assertEqual(self.ti1 - self.ti2, [self.ti1])\n",
    "        self.assertEqual(self.ti2 - self.ti1, [self.ti2])\n",
    "        self.assertEqual(self.ti1 - self.ti4, [])\n",
    "        self.assertEqual(self.ti4 - self.ti1, [self.ti6])\n",
    "\n",
    "unittest.main(argv=[''], verbosity=2, exit=False)\n",
    "\n"
   ]
  },
  {
   "cell_type": "code",
   "execution_count": 39,
   "metadata": {},
   "outputs": [
    {
     "name": "stderr",
     "output_type": "stream",
     "text": [
      "test_add_availability (__main__.TestEmployee) ... FAIL\n",
      "test_init (__main__.TestEmployee) ... ok\n",
      "test_remove_availability (__main__.TestEmployee) ... ERROR\n",
      "test_contains (__main__.TestTimeInterval) ... ok\n",
      "test_init (__main__.TestTimeInterval) ... ok\n",
      "test_overlaps (__main__.TestTimeInterval) ... ok\n",
      "test_subtraction (__main__.TestTimeInterval) ... ok\n",
      "test_add (__main__.TestTimeIntervals) ... ok\n",
      "test_eq (__main__.TestTimeIntervals) ... ok\n",
      "test_init (__main__.TestTimeIntervals) ... ok\n",
      "test_remove (__main__.TestTimeIntervals) ... ok\n",
      "\n",
      "======================================================================\n",
      "ERROR: test_remove_availability (__main__.TestEmployee)\n",
      "----------------------------------------------------------------------\n",
      "Traceback (most recent call last):\n",
      "  File \"/var/folders/qm/hc980d_116zfqwx_9dxh3dmm0000gn/T/ipykernel_58110/2286337519.py\", line 49, in test_remove_availability\n",
      "    self.assertEqual(self.emp.availability, self.intervals2 + self.intervals3)\n",
      "  File \"/var/folders/qm/hc980d_116zfqwx_9dxh3dmm0000gn/T/ipykernel_58110/1319616489.py\", line 139, in __add__\n",
      "    raise TypeError('other must be of type TimeIntervals or TimeInterval')\n",
      "TypeError: other must be of type TimeIntervals or TimeInterval\n",
      "\n",
      "======================================================================\n",
      "FAIL: test_add_availability (__main__.TestEmployee)\n",
      "----------------------------------------------------------------------\n",
      "Traceback (most recent call last):\n",
      "  File \"/var/folders/qm/hc980d_116zfqwx_9dxh3dmm0000gn/T/ipykernel_58110/2286337519.py\", line 29, in test_add_availability\n",
      "    self.assertEqual(self.emp.availability, self.intervals1)\n",
      "AssertionError: compared object must be of type TimeIntervals\n",
      "\n",
      "----------------------------------------------------------------------\n",
      "Ran 11 tests in 0.009s\n",
      "\n",
      "FAILED (failures=1, errors=1)\n"
     ]
    },
    {
     "name": "stdout",
     "output_type": "stream",
     "text": [
      "2021-01-01 08:00:00 - 2021-01-01 13:00:00\n",
      "TimeIntervals([])\n",
      "TimeIntervals([TimeInterval(2021-01-01 08:00:00, 2021-01-01 13:00:00)])\n",
      "TimeIntervals([TimeInterval(2021-01-01 08:00:00, 2021-01-01 17:00:00)])\n",
      "TimeIntervals([TimeInterval(2021-01-01 08:00:00, 2021-01-01 17:00:00)])\n",
      "TimeIntervals([TimeInterval(2021-01-01 13:00:00, 2021-01-01 17:00:00)])\n"
     ]
    },
    {
     "data": {
      "text/plain": [
       "<unittest.main.TestProgram at 0x13727c400>"
      ]
     },
     "execution_count": 39,
     "metadata": {},
     "output_type": "execute_result"
    }
   ],
   "source": [
    "# Test the TimeIntervals class\n",
    "# 1. test initialization\n",
    "# 2. test add\n",
    "# 3. test remove\n",
    "class TestTimeIntervals(unittest.TestCase):\n",
    "    _iv1 = TimeInterval(datetime(2023, 2, 1, 10), datetime(2023, 2, 1, 12))\n",
    "    _iv2 = TimeInterval(datetime(2023, 2, 1, 11), datetime(2023, 2, 1, 13))\n",
    "    _iv3 = TimeInterval(datetime(2023, 2, 1, 12), datetime(2023, 2, 1, 14))\n",
    "\n",
    "    def test_init(self):\n",
    "        intervals = TimeIntervals([self._iv1, self._iv2, self._iv3])\n",
    "        self.assertEqual(intervals.intervals, [TimeInterval(datetime(2023, 2, 1, 10), datetime(2023, 2, 1, 14))])\n",
    "\n",
    "    def test_add(self):\n",
    "        intervals = TimeIntervals([self._iv1])\n",
    "        intervals.add(self._iv2)\n",
    "        self.assertEqual(intervals.intervals, [TimeInterval(datetime(2023, 2, 1, 10), datetime(2023, 2, 1, 13))])\n",
    "        intervals.add(self._iv3)\n",
    "        self.assertEqual(self._iv2, TimeInterval(datetime(2023, 2, 1, 11), datetime(2023, 2, 1, 13)))\n",
    "\n",
    "    def test_remove(self):\n",
    "        intervals = TimeIntervals([self._iv1, self._iv2, self._iv3])\n",
    "        intervals.remove(self._iv2)\n",
    "        self.assertEqual(intervals.intervals, [TimeInterval(datetime(2023, 2, 1, 10), datetime(2023, 2, 1, 11)), TimeInterval(datetime(2023, 2, 1, 13), datetime(2023, 2, 1, 14))])\n",
    "        \n",
    "    def test_eq(self):\n",
    "        intervals1 = TimeIntervals([self._iv1, self._iv2, self._iv3])\n",
    "        intervals2 = TimeIntervals([self._iv1, self._iv3])\n",
    "        self.assertTrue(intervals1 == intervals2)\n",
    "        intervals1.remove(self._iv3)\n",
    "        self.assertFalse(intervals1 == intervals2)\n",
    "\n",
    "unittest.main(argv=[''], verbosity=2, exit=False)\n",
    "\n",
    "\n"
   ]
  },
  {
   "cell_type": "code",
   "execution_count": 32,
   "metadata": {},
   "outputs": [],
   "source": [
    "# Employee class\n",
    "class Employee:\n",
    "    def __init__(self, name: str, role: str):\n",
    "        self._name = name\n",
    "        self._role = role\n",
    "        self._availability = TimeIntervals([])\n",
    "        self.assigned_shifts = []\n",
    "\n",
    "    @property\n",
    "    def name(self):\n",
    "        return self._name\n",
    "\n",
    "    @name.setter\n",
    "    def name(self, name: str):\n",
    "        self._name = name\n",
    "\n",
    "    @property\n",
    "    def availability(self):\n",
    "        return self._availability\n",
    "\n",
    "    # @availability.setter\n",
    "    # def availability(self, availability: TimeIntervals):\n",
    "    #     self._availability = availability\n",
    "\n",
    "    @property\n",
    "    def role(self):\n",
    "        return self._role\n",
    "    \n",
    "    @role.setter\n",
    "    def role(self, role: str):\n",
    "        self._role = role\n",
    "    \n",
    "    def _add_availability(self, interval: TimeInterval):\n",
    "        # add copy of interval to availability\n",
    "        self._availability.add(interval.copy())\n",
    "\n",
    "    def _remove_availability(self, interval: TimeInterval):\n",
    "        self._availability.remove(interval)\n",
    "\n",
    "    def _clear_availability(self):\n",
    "        self._availability = TimeIntervals([])\n",
    "\n",
    "\n",
    "\n",
    "# Shift class\n",
    "class Shift:\n",
    "    def __init__(self, interval: TimeInterval, min_employees: int, max_employees: int, name: str = \"New shift\", type: str = \"Uncategorized\"):\n",
    "        assert min_employees <= max_employees, \"Minimum number of employees must be less than or equal to the maximum number of employees\"\n",
    "        self._name = name\n",
    "        self._type = type\n",
    "        self._interval = interval\n",
    "        self._min_employees = min_employees\n",
    "        self._max_employees = max_employees\n",
    "        self._assigned_employees = []\n",
    "\n",
    "    @property\n",
    "    def name(self):\n",
    "        return self._name\n",
    "\n",
    "    @name.setter\n",
    "    def name(self, name: str):\n",
    "        self._name = name\n",
    "\n",
    "    @property\n",
    "    def type(self):\n",
    "        return self._type\n",
    "    \n",
    "    @type.setter\n",
    "    def type(self, type: str):\n",
    "        self._type = type\n",
    "    \n",
    "    @property\n",
    "    def interval(self):\n",
    "        return self._interval\n",
    "    \n",
    "    @interval.setter\n",
    "    def interval(self, interval: TimeInterval):\n",
    "        self._interval = interval\n",
    "\n",
    "    @property\n",
    "    def min_employees(self):\n",
    "        return self._min_employees\n",
    "\n",
    "    @min_employees.setter\n",
    "    def min_employees(self, min_employees: int):\n",
    "        self._min_employees = min_employees\n",
    "\n",
    "    @property\n",
    "    def max_employees(self):\n",
    "        return self._max_employees\n",
    "\n",
    "    @max_employees.setter\n",
    "    def max_employees(self, max_employees: int):\n",
    "        self._max_employees = max_employees\n",
    "\n",
    "    @property\n",
    "    def date(self):\n",
    "        return self.interval.start.date()\n",
    "\n",
    "    @property\n",
    "    def weekday(self):\n",
    "        return self.interval.start.weekday()\n",
    "\n",
    "    @property\n",
    "    def start(self):\n",
    "        return self.interval.start.time()\n",
    "\n",
    "    @property\n",
    "    def end(self):\n",
    "        return self.interval.end.time()\n",
    "\n",
    "    @property\n",
    "    def duration(self):\n",
    "        return self.interval.end - self.interval.start\n",
    "\n",
    "    def _add_employee(self, employee: Employee):\n",
    "        self._assigned_employees.append(employee)\n",
    "\n",
    "    def _remove_employee(self, employee: Employee):\n",
    "        self._assigned_employees.remove(employee)\n",
    "\n",
    "\n",
    "\n",
    "# Schedule class\n",
    "class Schedule:\n",
    "    def __init__(self, start_date: datetime, end_date: datetime, name: str = \"New schedule\"):\n",
    "        self._name = name\n",
    "        self._shifts = []\n",
    "        self._shift_types = []\n",
    "        self._employees = []\n",
    "        self._roles = []\n",
    "        self._start_date = start_date\n",
    "        self._end_date = end_date\n",
    "\n",
    "    @property\n",
    "    def name(self):\n",
    "        return self._name\n",
    "\n",
    "    @name.setter\n",
    "    def name(self, name: str):\n",
    "        self._name = name   \n",
    "\n",
    "    @property\n",
    "    def shifts(self):\n",
    "        return self._shifts\n",
    "\n",
    "    @property\n",
    "    def shift_types(self):\n",
    "        return self._shift_types\n",
    "\n",
    "    @property\n",
    "    def employees(self):\n",
    "        return self._employees\n",
    "\n",
    "    @employees.setter\n",
    "    def employees(self, employees: list):\n",
    "        self._employees = employees\n",
    "\n",
    "    @property\n",
    "    def roles(self):\n",
    "        return self._roles\n",
    "\n",
    "    @property\n",
    "    def start_date(self):\n",
    "        return self._start_date\n",
    "\n",
    "    @start_date.setter\n",
    "    def start_date(self, start_date: datetime):\n",
    "        self._start_date = start_date\n",
    "\n",
    "    @property\n",
    "    def end_date(self):\n",
    "        return self._end_date\n",
    "\n",
    "    @end_date.setter\n",
    "    def end_date(self, end_date: datetime):\n",
    "        self._end_date = end_date\n",
    "\n",
    "    # create_shift\n",
    "    def create_shift(self, start: datetime, end: datetime, min_employees: int, max_employees: int, name: str = \"New shift\", type: str = \"Uncategorized\"):\n",
    "        # check if start and end are within the schedule's start and end dates\n",
    "        assert start >= self.start_date and end <= self.end_date, \"Shift must be within the schedule's start and end dates\"\n",
    "        self._shifts.append(Shift(TimeInterval(start, end), min_employees, max_employees, name, type))\n",
    "        if type not in self._shift_types:\n",
    "            self._shift_types.append(type)\n",
    "\n",
    "    # remove_shift\n",
    "    def remove_shift(self, shift: Shift):\n",
    "        self._shifts.remove(shift)\n",
    "        if shift.type not in [s.type for s in self._shifts]:\n",
    "            self._shift_types.remove(shift.type)\n",
    "\n",
    "    # create_employee\n",
    "    def create_employee(self, name: str = \"New Employee\", role: str = \"Uncategorized\"):\n",
    "        self._employees.append(Employee(name = name, role = role))\n",
    "        if role not in self._roles:\n",
    "            self._roles.append(role)\n",
    "            \n",
    "    # remove_employee\n",
    "    def remove_employee(self, employee: Employee):\n",
    "        self._employees.remove(employee)\n",
    "        if employee.role not in [e.role for e in self._employees]:\n",
    "            self._roles.remove(employee.role)\n",
    "\n",
    "    # assign_employee\n",
    "    def assign_employee(self, employee: Employee, shift: Shift):\n",
    "        # check if employee is available during the shift\n",
    "        assert shift.interval in employee.availability, \"Employee is not available during the shift\"\n",
    "        # check if shift is not full\n",
    "        assert len(shift._assigned_employees) < shift.max_employees, \"Shift is full\"\n",
    "        # check if employee is not already assigned to the shift\n",
    "        assert employee not in shift._assigned_employees, \"Employee is already assigned to the shift\"\n",
    "\n",
    "        employee.assigned_shifts.append(shift)\n",
    "        shift._add_employee(employee)\n",
    "\n",
    "        # update employee's availability\n",
    "        employee._remove_availability(shift.interval)\n",
    "\n",
    "    # unassign_employee\n",
    "    def unassign_employee(self, employee: Employee, shift: Shift):\n",
    "        # check if employee is assigned to the shift\n",
    "        assert employee in shift._assigned_employees, \"Employee is not assigned to the shift\"\n",
    "\n",
    "        employee.assigned_shifts.remove(shift)\n",
    "        shift._remove_employee(employee)\n",
    "\n",
    "        # update employee's availability\n",
    "        employee._add_availability(shift.interval)\n",
    "\n",
    "    # generate_schedule with constraints, objectives with CP-SAT\n",
    "    def generate_schedule(self):\n",
    "        pass\n",
    "\n",
    "    # display\n",
    "    def display(self):\n",
    "        pass\n",
    "    \n",
    "    # save to csv\n",
    "    def save(self):\n",
    "        pass\n",
    "\n",
    "    # load from csv\n",
    "    def load(self):\n",
    "        pass\n",
    "\n",
    "\n",
    "    "
   ]
  },
  {
   "cell_type": "code",
   "execution_count": 33,
   "metadata": {},
   "outputs": [
    {
     "name": "stderr",
     "output_type": "stream",
     "text": [
      "test_add_availability (__main__.TestEmployee) ... ok\n",
      "test_init (__main__.TestEmployee) ... ok\n",
      "test_remove_availability (__main__.TestEmployee) ... FAIL\n",
      "test_contains (__main__.TestTimeInterval) ... ok\n",
      "test_init (__main__.TestTimeInterval) ... ok\n",
      "test_overlaps (__main__.TestTimeInterval) ... ok\n",
      "test_subtraction (__main__.TestTimeInterval) ... FAIL\n",
      "test_add (__main__.TestTimeIntervals) ... FAIL\n",
      "test_eq (__main__.TestTimeIntervals) ... FAIL\n",
      "test_init (__main__.TestTimeIntervals) ... FAIL\n",
      "test_remove (__main__.TestTimeIntervals) ... FAIL\n",
      "\n",
      "======================================================================\n",
      "FAIL: test_remove_availability (__main__.TestEmployee)\n",
      "----------------------------------------------------------------------\n",
      "Traceback (most recent call last):\n",
      "  File \"/var/folders/qm/hc980d_116zfqwx_9dxh3dmm0000gn/T/ipykernel_58110/2286337519.py\", line 49, in test_remove_availability\n",
      "    self.assertEqual(self.emp.availability, self.intervals2 + self.intervals3)\n",
      "AssertionError: TimeIntervals([TimeInterval(2021-01-01 13:00:00, 2021-01-01 17:00:00)]) != TimeIntervals([TimeInterval(2021-01-01 12:00:00, 2021-01-01 17:00:00)])\n",
      "\n",
      "======================================================================\n",
      "FAIL: test_subtraction (__main__.TestTimeInterval)\n",
      "----------------------------------------------------------------------\n",
      "Traceback (most recent call last):\n",
      "  File \"/var/folders/qm/hc980d_116zfqwx_9dxh3dmm0000gn/T/ipykernel_58110/2599909403.py\", line 50, in test_subtraction\n",
      "    self.assertEqual(self.ti4 - self.ti1, [self.ti6])\n",
      "AssertionError: compared object must be of type TimeInterval\n",
      "\n",
      "======================================================================\n",
      "FAIL: test_add (__main__.TestTimeIntervals)\n",
      "----------------------------------------------------------------------\n",
      "Traceback (most recent call last):\n",
      "  File \"/var/folders/qm/hc980d_116zfqwx_9dxh3dmm0000gn/T/ipykernel_58110/1363602353.py\", line 15, in test_add\n",
      "    intervals = TimeIntervals([self._iv1])\n",
      "  File \"/var/folders/qm/hc980d_116zfqwx_9dxh3dmm0000gn/T/ipykernel_58110/1319616489.py\", line 76, in __init__\n",
      "    assert all([isinstance(interval, TimeInterval) for interval in intervals]), 'All elements in the list must be of type TimeInterval'\n",
      "AssertionError: All elements in the list must be of type TimeInterval\n",
      "\n",
      "======================================================================\n",
      "FAIL: test_eq (__main__.TestTimeIntervals)\n",
      "----------------------------------------------------------------------\n",
      "Traceback (most recent call last):\n",
      "  File \"/var/folders/qm/hc980d_116zfqwx_9dxh3dmm0000gn/T/ipykernel_58110/1363602353.py\", line 27, in test_eq\n",
      "    intervals1 = TimeIntervals([self._iv1, self._iv2, self._iv3])\n",
      "  File \"/var/folders/qm/hc980d_116zfqwx_9dxh3dmm0000gn/T/ipykernel_58110/1319616489.py\", line 76, in __init__\n",
      "    assert all([isinstance(interval, TimeInterval) for interval in intervals]), 'All elements in the list must be of type TimeInterval'\n",
      "AssertionError: All elements in the list must be of type TimeInterval\n",
      "\n",
      "======================================================================\n",
      "FAIL: test_init (__main__.TestTimeIntervals)\n",
      "----------------------------------------------------------------------\n",
      "Traceback (most recent call last):\n",
      "  File \"/var/folders/qm/hc980d_116zfqwx_9dxh3dmm0000gn/T/ipykernel_58110/1363602353.py\", line 11, in test_init\n",
      "    intervals = TimeIntervals([self._iv1, self._iv2, self._iv3])\n",
      "  File \"/var/folders/qm/hc980d_116zfqwx_9dxh3dmm0000gn/T/ipykernel_58110/1319616489.py\", line 76, in __init__\n",
      "    assert all([isinstance(interval, TimeInterval) for interval in intervals]), 'All elements in the list must be of type TimeInterval'\n",
      "AssertionError: All elements in the list must be of type TimeInterval\n",
      "\n",
      "======================================================================\n",
      "FAIL: test_remove (__main__.TestTimeIntervals)\n",
      "----------------------------------------------------------------------\n",
      "Traceback (most recent call last):\n",
      "  File \"/var/folders/qm/hc980d_116zfqwx_9dxh3dmm0000gn/T/ipykernel_58110/1363602353.py\", line 22, in test_remove\n",
      "    intervals = TimeIntervals([self._iv1, self._iv2, self._iv3])\n",
      "  File \"/var/folders/qm/hc980d_116zfqwx_9dxh3dmm0000gn/T/ipykernel_58110/1319616489.py\", line 76, in __init__\n",
      "    assert all([isinstance(interval, TimeInterval) for interval in intervals]), 'All elements in the list must be of type TimeInterval'\n",
      "AssertionError: All elements in the list must be of type TimeInterval\n",
      "\n",
      "----------------------------------------------------------------------\n",
      "Ran 11 tests in 0.020s\n",
      "\n",
      "FAILED (failures=6)\n"
     ]
    },
    {
     "name": "stdout",
     "output_type": "stream",
     "text": [
      "2021-01-01 08:00:00 - 2021-01-01 12:00:00\n",
      "2021-01-01 08:00:00 - 2021-01-01 12:00:00\n",
      "2021-01-01 08:00:00 - 2021-01-01 13:00:00\n",
      "TimeIntervals([])\n",
      "TimeIntervals([TimeInterval(2021-01-01 08:00:00, 2021-01-01 13:00:00)])\n",
      "TimeIntervals([TimeInterval(2021-01-01 08:00:00, 2021-01-01 13:00:00)])\n",
      "TimeIntervals([TimeInterval(2021-01-01 08:00:00, 2021-01-01 17:00:00)])\n",
      "TimeIntervals([TimeInterval(2021-01-01 13:00:00, 2021-01-01 17:00:00)])\n"
     ]
    },
    {
     "data": {
      "text/plain": [
       "<unittest.main.TestProgram at 0x1371c59d0>"
      ]
     },
     "execution_count": 33,
     "metadata": {},
     "output_type": "execute_result"
    }
   ],
   "source": [
    "# Employee test cases with unittest\n",
    "\n",
    "class TestEmployee(unittest.TestCase):\n",
    "    emp = Employee(name=\"John\", role=\"Cashier\")\n",
    "    dt1 = datetime(2021, 1, 1, 8, 0)\n",
    "    dt2 = datetime(2021, 1, 1, 12, 0)\n",
    "    dt3 = datetime(2021, 1, 1, 13, 0)\n",
    "    dt4 = datetime(2021, 1, 1, 17, 0)\n",
    "    __iv1 = TimeInterval(dt1, dt2)\n",
    "    __iv2 = TimeInterval(dt2, dt3)\n",
    "    __iv3 = TimeInterval(dt3, dt4)\n",
    "    __iv4 = TimeInterval(dt1, dt4)\n",
    "\n",
    "    intervals1 = TimeIntervals([__iv1])\n",
    "    intervals2 = TimeIntervals([__iv2])\n",
    "    intervals3 = TimeIntervals([__iv3])\n",
    "    intervals4 = TimeIntervals([__iv4])\n",
    "\n",
    "    # print(intervals1)\n",
    "\n",
    "    def test_init(self):\n",
    "        self.assertEqual(self.emp.name, \"John\")\n",
    "        self.assertEqual(self.emp.role, \"Cashier\")\n",
    "        self.assertEqual(self.emp.assigned_shifts, [])\n",
    "    \n",
    "    def test_add_availability(self):\n",
    "        self.emp._add_availability(self.__iv1)\n",
    "        self.assertEqual(self.emp.availability, self.intervals1)\n",
    "        self.emp._add_availability(self.__iv2)\n",
    "        self.assertEqual(self.emp.availability, self.intervals1 + self.intervals2)\n",
    "        self.emp._add_availability(self.__iv3)\n",
    "        self.assertEqual(self.emp.availability, self.intervals4)\n",
    "       \n",
    "\n",
    "    def test_remove_availability(self):\n",
    "        self.emp._clear_availability()\n",
    "        print(self.emp.availability)\n",
    "        self.emp._add_availability(self.__iv1)\n",
    "        print(self.emp.availability)\n",
    "        self.emp._add_availability(self.__iv2)\n",
    "        print(self.emp.availability)\n",
    "        self.emp._add_availability(self.__iv3)\n",
    "        print(self.emp.availability)\n",
    "        self.emp._remove_availability(self.__iv1)\n",
    "        print(self.emp.availability)\n",
    "        self.assertEqual(self.emp.availability, self.intervals2 + self.intervals3)\n",
    "\n",
    "unittest.main(argv=[''], verbosity=2, exit=False)\n",
    "\n"
   ]
  }
 ],
 "metadata": {
  "kernelspec": {
   "display_name": "shift",
   "language": "python",
   "name": "python3"
  },
  "language_info": {
   "codemirror_mode": {
    "name": "ipython",
    "version": 3
   },
   "file_extension": ".py",
   "mimetype": "text/x-python",
   "name": "python",
   "nbconvert_exporter": "python",
   "pygments_lexer": "ipython3",
   "version": "3.9.15"
  },
  "orig_nbformat": 4,
  "vscode": {
   "interpreter": {
    "hash": "91871c564c763eb1d5c82ae4f749b96e3dcd94d5076ee842c8c9eaebbb951f3b"
   }
  }
 },
 "nbformat": 4,
 "nbformat_minor": 2
}
