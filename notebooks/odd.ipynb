{
 "cells": [
  {
   "cell_type": "code",
   "execution_count": 37,
   "metadata": {},
   "outputs": [],
   "source": [
    "from datetime import datetime, timedelta\n",
    "import pandas as pd\n",
    "import plotly.figure_factory as ff\n",
    "from ortools.sat.python import cp_model\n",
    "from bisect import bisect_left, bisect_right\n",
    "import matplotlib.pyplot as plt\n",
    "import numpy as np\n",
    "import plotly.express as px\n",
    "import unittest\n"
   ]
  },
  {
   "cell_type": "code",
   "execution_count": 80,
   "metadata": {},
   "outputs": [],
   "source": [
    "from datetime import datetime, timedelta\n",
    "\n",
    "from datetime import datetime, timedelta\n",
    "\n",
    "class TimeInterval:\n",
    "    \"\"\"\n",
    "    A class representing a time interval with a start and end time.\n",
    "\n",
    "    Attributes:\n",
    "    - start_time (int): the start time of the interval\n",
    "    - end_time (int): the end time of the interval\n",
    "    \"\"\"\n",
    "\n",
    "    def __init__(self, start_time: datetime, end_time: datetime):\n",
    "        \"\"\"\n",
    "        Initializes a TimeInterval with a given start and end time.\n",
    "        Raises a ValueError if end_time is less than or equal to start_time.\n",
    "\n",
    "        Args:\n",
    "        - start_time (int): the start time of the interval\n",
    "        - end_time (int): the end time of the interval\n",
    "        \"\"\"\n",
    "        if end_time <= start_time:\n",
    "            raise ValueError('end_time must be greater than start_time')\n",
    "\n",
    "        self.start_time = start_time\n",
    "        self.end_time = end_time\n",
    "\n",
    "    def __repr__(self):\n",
    "        return f'TimeInterval({self.start_time}, {self.end_time})'\n",
    "\n",
    "    def __str__(self):\n",
    "        return f'{self.start_time} - {self.end_time}'\n",
    "\n",
    "    def __eq__(self, other):\n",
    "        return self.start_time == other.start_time and self.end_time == other.end_time\n",
    "\n",
    "    def __lt__(self, other):\n",
    "        return self.end_time <= other.start_time\n",
    "\n",
    "    def __gt__(self, other):\n",
    "        return self.start_time >= other.end_time\n",
    "\n",
    "    def __add__(self, other):\n",
    "        if self > other:\n",
    "            return TimeIntervals([other, self])\n",
    "        elif self < other:\n",
    "            return TimeIntervals([self, other])\n",
    "        else:\n",
    "            return TimeIntervals([self])\n",
    "\n",
    "    def __sub__(self, other):\n",
    "        if self == other:\n",
    "            return TimeIntervals([])\n",
    "        elif self < other:\n",
    "            return TimeIntervals([self])\n",
    "        elif self > other:\n",
    "            return TimeIntervals([TimeInterval(other.end_time, self.end_time)])\n",
    "\n",
    "    def duration(self) -> int:\n",
    "        \"\"\"\n",
    "        Returns the duration of the time interval as the difference between the end and start times.\n",
    "\n",
    "        Returns:\n",
    "        - The duration of the time interval as an int.\n",
    "        \"\"\"\n",
    "        return self.end_time - self.start_time\n",
    "    \n",
    "\n",
    "    def contains(self, other):\n",
    "        return self.start_time <= other.start_time and self.end_time >= other.end_time\n",
    "\n",
    "    def overlap(self, other: 'TimeInterval') -> bool:\n",
    "        \"\"\"\n",
    "        Returns True if the current time interval overlaps with the other time interval.\n",
    "\n",
    "        Args:\n",
    "        - other (TimeInterval): the other time interval to check for overlap\n",
    "\n",
    "        Returns:\n",
    "        - True if the current time interval overlaps with the other time interval, False otherwise\n",
    "        \"\"\"\n",
    "        return (self.start_time < other.end_time) and (other.start_time < self.end_time)\n",
    "\n",
    "\n",
    "class TimeIntervals:\n",
    "    \"\"\"\n",
    "    A class representing a list of time intervals. Each interval is represented as an instance of the TimeInterval class.\n",
    "    \n",
    "    Attributes:\n",
    "    -----------\n",
    "    intervals : List[TimeInterval]\n",
    "        A list of TimeInterval instances representing the time intervals.\n",
    "        \n",
    "    Methods:\n",
    "    --------\n",
    "    __init__(intervals: List[TimeInterval])\n",
    "        Initializes a new instance of the TimeIntervals class with the specified list of intervals.\n",
    "        \n",
    "    __repr__() -> str\n",
    "        Returns a string representation of the TimeIntervals instance.\n",
    "        \n",
    "    __str__() -> str\n",
    "        Returns a string representation of the TimeIntervals instance.\n",
    "        \n",
    "    __add__(other: TimeIntervals) -> TimeIntervals\n",
    "        Adds the intervals of another TimeIntervals instance to this instance and returns a new TimeIntervals instance.\n",
    "        \n",
    "    __sub__(other: TimeIntervals) -> TimeIntervals\n",
    "        Subtracts the intervals of another TimeIntervals instance from this instance and returns a new TimeIntervals instance.\n",
    "        \n",
    "    combine_intervals(intervals: List[TimeInterval]) -> List[TimeInterval]\n",
    "        Combines a list of overlapping intervals into a list of non-overlapping intervals and returns the result.\n",
    "        \n",
    "    visualize_gantt()\n",
    "        Generates a Gantt chart visualization of the time intervals using Plotly.\n",
    "    \"\"\"\n",
    "\n",
    "    def __init__(self, intervals):\n",
    "        \"\"\"\n",
    "        Initializes a TimeIntervals object with a list of non-overlapping TimeInterval objects.\n",
    "\n",
    "        Args:\n",
    "        - intervals (List[TimeInterval]): a list of non-overlapping TimeInterval objects.\n",
    "        \"\"\"\n",
    "        self.intervals = self.combine_intervals(intervals)\n",
    "\n",
    "    def __repr__(self):\n",
    "        return f'TimeIntervals({self.intervals})'\n",
    "\n",
    "    def __str__(self):\n",
    "        return ', '.join(str(interval) for interval in self.intervals)\n",
    "\n",
    "    def __add__(self, other):\n",
    "        intervals = self.intervals + other.intervals\n",
    "        return TimeIntervals(intervals)\n",
    "\n",
    "    def __sub__(self, other):\n",
    "        intervals = self.intervals + other.intervals\n",
    "        events = []\n",
    "        for interval in intervals:\n",
    "            events.append((interval.start_time, 1))\n",
    "            events.append((interval.end_time, -1))\n",
    "        events.sort()\n",
    "        result_intervals = []\n",
    "        count = 0\n",
    "        start_time = None\n",
    "        for time, delta in events:\n",
    "            if count == 0 and start_time is not None:\n",
    "                result_intervals.append(TimeInterval(start_time, time))\n",
    "            count += delta\n",
    "            if count == 0:\n",
    "                start_time = None\n",
    "            else:\n",
    "                start_time = time\n",
    "        return TimeIntervals(result_intervals)\n",
    "\n",
    "\n",
    "    def contains(self, interval):\n",
    "        \"\"\"\n",
    "        Returns True if the current time intervals contain the specified time interval.\n",
    "\n",
    "        Args:\n",
    "        - interval (TimeInterval): the time interval to check for containment\n",
    "\n",
    "        Returns:\n",
    "        - True if the current time intervals contain the specified time interval, False otherwise\n",
    "        \"\"\"\n",
    "        for iv in self.intervals:\n",
    "            if iv.contains(interval):\n",
    "                return True\n",
    "        return False\n",
    "    \n",
    "    def overlap(self, other: 'TimeIntervals') -> bool:\n",
    "        \"\"\"\n",
    "        Returns True if the current time intervals overlap with the other time intervals.\n",
    "\n",
    "        Args:\n",
    "        - other (TimeIntervals): the other time intervals to check for overlap\n",
    "\n",
    "        Returns:\n",
    "        - True if the current time intervals overlap with the other time intervals, False otherwise\n",
    "        \"\"\"\n",
    "        for interval in self.intervals:\n",
    "            for other_interval in other.intervals:\n",
    "                if interval.overlap(other_interval):\n",
    "                    return True\n",
    "        return False\n",
    "\n",
    "    def duration(self) -> int:\n",
    "        \"\"\"\n",
    "        Returns the total duration of the time intervals as the sum of the durations of the individual intervals.\n",
    "\n",
    "        Returns:\n",
    "        - The total duration of the time intervals as an int.\n",
    "        \"\"\"\n",
    "        return sum(interval.duration().total_seconds() for interval in self.intervals)\n",
    "\n",
    "    @staticmethod\n",
    "    def combine_intervals(intervals):\n",
    "        intervals.sort(key=lambda x: x.start_time)\n",
    "        merged_intervals = []\n",
    "        for interval in intervals:\n",
    "            idx = bisect_right(merged_intervals, interval)\n",
    "            if idx == 0 or interval.start_time > merged_intervals[idx-1].end_time:\n",
    "                merged_intervals.insert(idx, interval)\n",
    "            else:\n",
    "                merged_intervals[idx-1].end_time = max(merged_intervals[idx-1].end_time, interval.end_time)\n",
    "        return merged_intervals\n",
    "\n",
    "    def visualize_gantt(self):\n",
    "        \"\"\"\n",
    "        Generates a Gantt chart visualization of the time intervals using Plotly.\n",
    "        \"\"\"\n",
    "        # Combine intervals into a single interval\n",
    "        combined_intervals = self.combine_intervals(self.intervals)\n",
    "\n",
    "        # Create a Pandas DataFrame with the interval data\n",
    "        data = pd.DataFrame({'Task': ['Time Intervals'] * len(combined_intervals),\n",
    "                                    'Start': [interval.start_time for interval in combined_intervals],\n",
    "                                    'Finish': [interval.end_time for interval in combined_intervals]})\n",
    "\n",
    "        # Create the Gantt chart\n",
    "        fig = px.timeline(data, x_start='Start', x_end='Finish', y='Task', title='Time Intervals')\n",
    "\n",
    "        # Format the chart\n",
    "        fig.update_yaxes(autorange=\"reversed\", showgrid=False, showticklabels=True)\n",
    "        fig.update_xaxes(showgrid=True, showticklabels=True)\n",
    "        fig.update_layout(height=300, margin=dict(l=0, r=0, t=30, b=0))\n",
    "\n",
    "        # Show the chart\n",
    "        fig.show()\n",
    "\n"
   ]
  },
  {
   "cell_type": "code",
   "execution_count": 42,
   "metadata": {},
   "outputs": [
    {
     "data": {
      "application/vnd.plotly.v1+json": {
       "config": {
        "plotlyServerURL": "https://plot.ly"
       },
       "data": [
        {
         "alignmentgroup": "True",
         "base": [
          "2023-02-01T10:00:00",
          "2023-02-01T12:00:00",
          "2023-02-01T14:00:00"
         ],
         "hovertemplate": "Start=%{base}<br>Finish=%{x}<br>Task=%{y}<extra></extra>",
         "legendgroup": "",
         "marker": {
          "color": "#636efa",
          "pattern": {
           "shape": ""
          }
         },
         "name": "",
         "offsetgroup": "",
         "orientation": "h",
         "showlegend": false,
         "textposition": "auto",
         "type": "bar",
         "x": [
          3600000,
          3600000,
          7200000
         ],
         "xaxis": "x",
         "y": [
          "Time Intervals",
          "Time Intervals",
          "Time Intervals"
         ],
         "yaxis": "y"
        }
       ],
       "layout": {
        "barmode": "overlay",
        "height": 300,
        "legend": {
         "tracegroupgap": 0
        },
        "margin": {
         "b": 0,
         "l": 0,
         "r": 0,
         "t": 30
        },
        "template": {
         "data": {
          "bar": [
           {
            "error_x": {
             "color": "#2a3f5f"
            },
            "error_y": {
             "color": "#2a3f5f"
            },
            "marker": {
             "line": {
              "color": "#E5ECF6",
              "width": 0.5
             },
             "pattern": {
              "fillmode": "overlay",
              "size": 10,
              "solidity": 0.2
             }
            },
            "type": "bar"
           }
          ],
          "barpolar": [
           {
            "marker": {
             "line": {
              "color": "#E5ECF6",
              "width": 0.5
             },
             "pattern": {
              "fillmode": "overlay",
              "size": 10,
              "solidity": 0.2
             }
            },
            "type": "barpolar"
           }
          ],
          "carpet": [
           {
            "aaxis": {
             "endlinecolor": "#2a3f5f",
             "gridcolor": "white",
             "linecolor": "white",
             "minorgridcolor": "white",
             "startlinecolor": "#2a3f5f"
            },
            "baxis": {
             "endlinecolor": "#2a3f5f",
             "gridcolor": "white",
             "linecolor": "white",
             "minorgridcolor": "white",
             "startlinecolor": "#2a3f5f"
            },
            "type": "carpet"
           }
          ],
          "choropleth": [
           {
            "colorbar": {
             "outlinewidth": 0,
             "ticks": ""
            },
            "type": "choropleth"
           }
          ],
          "contour": [
           {
            "colorbar": {
             "outlinewidth": 0,
             "ticks": ""
            },
            "colorscale": [
             [
              0,
              "#0d0887"
             ],
             [
              0.1111111111111111,
              "#46039f"
             ],
             [
              0.2222222222222222,
              "#7201a8"
             ],
             [
              0.3333333333333333,
              "#9c179e"
             ],
             [
              0.4444444444444444,
              "#bd3786"
             ],
             [
              0.5555555555555556,
              "#d8576b"
             ],
             [
              0.6666666666666666,
              "#ed7953"
             ],
             [
              0.7777777777777778,
              "#fb9f3a"
             ],
             [
              0.8888888888888888,
              "#fdca26"
             ],
             [
              1,
              "#f0f921"
             ]
            ],
            "type": "contour"
           }
          ],
          "contourcarpet": [
           {
            "colorbar": {
             "outlinewidth": 0,
             "ticks": ""
            },
            "type": "contourcarpet"
           }
          ],
          "heatmap": [
           {
            "colorbar": {
             "outlinewidth": 0,
             "ticks": ""
            },
            "colorscale": [
             [
              0,
              "#0d0887"
             ],
             [
              0.1111111111111111,
              "#46039f"
             ],
             [
              0.2222222222222222,
              "#7201a8"
             ],
             [
              0.3333333333333333,
              "#9c179e"
             ],
             [
              0.4444444444444444,
              "#bd3786"
             ],
             [
              0.5555555555555556,
              "#d8576b"
             ],
             [
              0.6666666666666666,
              "#ed7953"
             ],
             [
              0.7777777777777778,
              "#fb9f3a"
             ],
             [
              0.8888888888888888,
              "#fdca26"
             ],
             [
              1,
              "#f0f921"
             ]
            ],
            "type": "heatmap"
           }
          ],
          "heatmapgl": [
           {
            "colorbar": {
             "outlinewidth": 0,
             "ticks": ""
            },
            "colorscale": [
             [
              0,
              "#0d0887"
             ],
             [
              0.1111111111111111,
              "#46039f"
             ],
             [
              0.2222222222222222,
              "#7201a8"
             ],
             [
              0.3333333333333333,
              "#9c179e"
             ],
             [
              0.4444444444444444,
              "#bd3786"
             ],
             [
              0.5555555555555556,
              "#d8576b"
             ],
             [
              0.6666666666666666,
              "#ed7953"
             ],
             [
              0.7777777777777778,
              "#fb9f3a"
             ],
             [
              0.8888888888888888,
              "#fdca26"
             ],
             [
              1,
              "#f0f921"
             ]
            ],
            "type": "heatmapgl"
           }
          ],
          "histogram": [
           {
            "marker": {
             "pattern": {
              "fillmode": "overlay",
              "size": 10,
              "solidity": 0.2
             }
            },
            "type": "histogram"
           }
          ],
          "histogram2d": [
           {
            "colorbar": {
             "outlinewidth": 0,
             "ticks": ""
            },
            "colorscale": [
             [
              0,
              "#0d0887"
             ],
             [
              0.1111111111111111,
              "#46039f"
             ],
             [
              0.2222222222222222,
              "#7201a8"
             ],
             [
              0.3333333333333333,
              "#9c179e"
             ],
             [
              0.4444444444444444,
              "#bd3786"
             ],
             [
              0.5555555555555556,
              "#d8576b"
             ],
             [
              0.6666666666666666,
              "#ed7953"
             ],
             [
              0.7777777777777778,
              "#fb9f3a"
             ],
             [
              0.8888888888888888,
              "#fdca26"
             ],
             [
              1,
              "#f0f921"
             ]
            ],
            "type": "histogram2d"
           }
          ],
          "histogram2dcontour": [
           {
            "colorbar": {
             "outlinewidth": 0,
             "ticks": ""
            },
            "colorscale": [
             [
              0,
              "#0d0887"
             ],
             [
              0.1111111111111111,
              "#46039f"
             ],
             [
              0.2222222222222222,
              "#7201a8"
             ],
             [
              0.3333333333333333,
              "#9c179e"
             ],
             [
              0.4444444444444444,
              "#bd3786"
             ],
             [
              0.5555555555555556,
              "#d8576b"
             ],
             [
              0.6666666666666666,
              "#ed7953"
             ],
             [
              0.7777777777777778,
              "#fb9f3a"
             ],
             [
              0.8888888888888888,
              "#fdca26"
             ],
             [
              1,
              "#f0f921"
             ]
            ],
            "type": "histogram2dcontour"
           }
          ],
          "mesh3d": [
           {
            "colorbar": {
             "outlinewidth": 0,
             "ticks": ""
            },
            "type": "mesh3d"
           }
          ],
          "parcoords": [
           {
            "line": {
             "colorbar": {
              "outlinewidth": 0,
              "ticks": ""
             }
            },
            "type": "parcoords"
           }
          ],
          "pie": [
           {
            "automargin": true,
            "type": "pie"
           }
          ],
          "scatter": [
           {
            "fillpattern": {
             "fillmode": "overlay",
             "size": 10,
             "solidity": 0.2
            },
            "type": "scatter"
           }
          ],
          "scatter3d": [
           {
            "line": {
             "colorbar": {
              "outlinewidth": 0,
              "ticks": ""
             }
            },
            "marker": {
             "colorbar": {
              "outlinewidth": 0,
              "ticks": ""
             }
            },
            "type": "scatter3d"
           }
          ],
          "scattercarpet": [
           {
            "marker": {
             "colorbar": {
              "outlinewidth": 0,
              "ticks": ""
             }
            },
            "type": "scattercarpet"
           }
          ],
          "scattergeo": [
           {
            "marker": {
             "colorbar": {
              "outlinewidth": 0,
              "ticks": ""
             }
            },
            "type": "scattergeo"
           }
          ],
          "scattergl": [
           {
            "marker": {
             "colorbar": {
              "outlinewidth": 0,
              "ticks": ""
             }
            },
            "type": "scattergl"
           }
          ],
          "scattermapbox": [
           {
            "marker": {
             "colorbar": {
              "outlinewidth": 0,
              "ticks": ""
             }
            },
            "type": "scattermapbox"
           }
          ],
          "scatterpolar": [
           {
            "marker": {
             "colorbar": {
              "outlinewidth": 0,
              "ticks": ""
             }
            },
            "type": "scatterpolar"
           }
          ],
          "scatterpolargl": [
           {
            "marker": {
             "colorbar": {
              "outlinewidth": 0,
              "ticks": ""
             }
            },
            "type": "scatterpolargl"
           }
          ],
          "scatterternary": [
           {
            "marker": {
             "colorbar": {
              "outlinewidth": 0,
              "ticks": ""
             }
            },
            "type": "scatterternary"
           }
          ],
          "surface": [
           {
            "colorbar": {
             "outlinewidth": 0,
             "ticks": ""
            },
            "colorscale": [
             [
              0,
              "#0d0887"
             ],
             [
              0.1111111111111111,
              "#46039f"
             ],
             [
              0.2222222222222222,
              "#7201a8"
             ],
             [
              0.3333333333333333,
              "#9c179e"
             ],
             [
              0.4444444444444444,
              "#bd3786"
             ],
             [
              0.5555555555555556,
              "#d8576b"
             ],
             [
              0.6666666666666666,
              "#ed7953"
             ],
             [
              0.7777777777777778,
              "#fb9f3a"
             ],
             [
              0.8888888888888888,
              "#fdca26"
             ],
             [
              1,
              "#f0f921"
             ]
            ],
            "type": "surface"
           }
          ],
          "table": [
           {
            "cells": {
             "fill": {
              "color": "#EBF0F8"
             },
             "line": {
              "color": "white"
             }
            },
            "header": {
             "fill": {
              "color": "#C8D4E3"
             },
             "line": {
              "color": "white"
             }
            },
            "type": "table"
           }
          ]
         },
         "layout": {
          "annotationdefaults": {
           "arrowcolor": "#2a3f5f",
           "arrowhead": 0,
           "arrowwidth": 1
          },
          "autotypenumbers": "strict",
          "coloraxis": {
           "colorbar": {
            "outlinewidth": 0,
            "ticks": ""
           }
          },
          "colorscale": {
           "diverging": [
            [
             0,
             "#8e0152"
            ],
            [
             0.1,
             "#c51b7d"
            ],
            [
             0.2,
             "#de77ae"
            ],
            [
             0.3,
             "#f1b6da"
            ],
            [
             0.4,
             "#fde0ef"
            ],
            [
             0.5,
             "#f7f7f7"
            ],
            [
             0.6,
             "#e6f5d0"
            ],
            [
             0.7,
             "#b8e186"
            ],
            [
             0.8,
             "#7fbc41"
            ],
            [
             0.9,
             "#4d9221"
            ],
            [
             1,
             "#276419"
            ]
           ],
           "sequential": [
            [
             0,
             "#0d0887"
            ],
            [
             0.1111111111111111,
             "#46039f"
            ],
            [
             0.2222222222222222,
             "#7201a8"
            ],
            [
             0.3333333333333333,
             "#9c179e"
            ],
            [
             0.4444444444444444,
             "#bd3786"
            ],
            [
             0.5555555555555556,
             "#d8576b"
            ],
            [
             0.6666666666666666,
             "#ed7953"
            ],
            [
             0.7777777777777778,
             "#fb9f3a"
            ],
            [
             0.8888888888888888,
             "#fdca26"
            ],
            [
             1,
             "#f0f921"
            ]
           ],
           "sequentialminus": [
            [
             0,
             "#0d0887"
            ],
            [
             0.1111111111111111,
             "#46039f"
            ],
            [
             0.2222222222222222,
             "#7201a8"
            ],
            [
             0.3333333333333333,
             "#9c179e"
            ],
            [
             0.4444444444444444,
             "#bd3786"
            ],
            [
             0.5555555555555556,
             "#d8576b"
            ],
            [
             0.6666666666666666,
             "#ed7953"
            ],
            [
             0.7777777777777778,
             "#fb9f3a"
            ],
            [
             0.8888888888888888,
             "#fdca26"
            ],
            [
             1,
             "#f0f921"
            ]
           ]
          },
          "colorway": [
           "#636efa",
           "#EF553B",
           "#00cc96",
           "#ab63fa",
           "#FFA15A",
           "#19d3f3",
           "#FF6692",
           "#B6E880",
           "#FF97FF",
           "#FECB52"
          ],
          "font": {
           "color": "#2a3f5f"
          },
          "geo": {
           "bgcolor": "white",
           "lakecolor": "white",
           "landcolor": "#E5ECF6",
           "showlakes": true,
           "showland": true,
           "subunitcolor": "white"
          },
          "hoverlabel": {
           "align": "left"
          },
          "hovermode": "closest",
          "mapbox": {
           "style": "light"
          },
          "paper_bgcolor": "white",
          "plot_bgcolor": "#E5ECF6",
          "polar": {
           "angularaxis": {
            "gridcolor": "white",
            "linecolor": "white",
            "ticks": ""
           },
           "bgcolor": "#E5ECF6",
           "radialaxis": {
            "gridcolor": "white",
            "linecolor": "white",
            "ticks": ""
           }
          },
          "scene": {
           "xaxis": {
            "backgroundcolor": "#E5ECF6",
            "gridcolor": "white",
            "gridwidth": 2,
            "linecolor": "white",
            "showbackground": true,
            "ticks": "",
            "zerolinecolor": "white"
           },
           "yaxis": {
            "backgroundcolor": "#E5ECF6",
            "gridcolor": "white",
            "gridwidth": 2,
            "linecolor": "white",
            "showbackground": true,
            "ticks": "",
            "zerolinecolor": "white"
           },
           "zaxis": {
            "backgroundcolor": "#E5ECF6",
            "gridcolor": "white",
            "gridwidth": 2,
            "linecolor": "white",
            "showbackground": true,
            "ticks": "",
            "zerolinecolor": "white"
           }
          },
          "shapedefaults": {
           "line": {
            "color": "#2a3f5f"
           }
          },
          "ternary": {
           "aaxis": {
            "gridcolor": "white",
            "linecolor": "white",
            "ticks": ""
           },
           "baxis": {
            "gridcolor": "white",
            "linecolor": "white",
            "ticks": ""
           },
           "bgcolor": "#E5ECF6",
           "caxis": {
            "gridcolor": "white",
            "linecolor": "white",
            "ticks": ""
           }
          },
          "title": {
           "x": 0.05
          },
          "xaxis": {
           "automargin": true,
           "gridcolor": "white",
           "linecolor": "white",
           "ticks": "",
           "title": {
            "standoff": 15
           },
           "zerolinecolor": "white",
           "zerolinewidth": 2
          },
          "yaxis": {
           "automargin": true,
           "gridcolor": "white",
           "linecolor": "white",
           "ticks": "",
           "title": {
            "standoff": 15
           },
           "zerolinecolor": "white",
           "zerolinewidth": 2
          }
         }
        },
        "title": {
         "text": "Time Intervals"
        },
        "xaxis": {
         "anchor": "y",
         "domain": [
          0,
          1
         ],
         "showgrid": true,
         "showticklabels": true,
         "type": "date"
        },
        "yaxis": {
         "anchor": "x",
         "autorange": "reversed",
         "domain": [
          0,
          1
         ],
         "showgrid": false,
         "showticklabels": true,
         "title": {
          "text": "Task"
         }
        }
       }
      }
     },
     "metadata": {},
     "output_type": "display_data"
    }
   ],
   "source": [
    "intervals = TimeIntervals([TimeInterval(datetime(2023, 2, 1, 10), datetime(2023, 2, 1, 11)),\n",
    "                           TimeInterval(datetime(2023, 2, 1, 12), datetime(2023, 2, 1, 13)),\n",
    "                           TimeInterval(datetime(2023, 2, 1, 14), datetime(2023, 2, 1, 16))])\n",
    "intervals.visualize_gantt()\n"
   ]
  },
  {
   "cell_type": "code",
   "execution_count": 81,
   "metadata": {},
   "outputs": [],
   "source": [
    "class TestTimeInterval(unittest.TestCase):\n",
    "\n",
    "    def test_constructor(self):\n",
    "        ti = TimeInterval(datetime(2022, 1, 1, 0), datetime(2022, 1, 1, 1))\n",
    "        self.assertEqual(ti.start_time, datetime(2022, 1, 1, 0))\n",
    "        self.assertEqual(ti.end_time, datetime(2022, 1, 1, 1))\n",
    "\n",
    "    def test_duration(self):\n",
    "        ti = TimeInterval(datetime(2022, 1, 1, 0), datetime(2022, 1, 1, 1))\n",
    "        self.assertEqual(ti.duration().total_seconds(), 3600)\n",
    "        # ti2 = TimeInterval(datetime(2022, 1, 1, 0), datetime(2022, 1, 2, 0))\n",
    "        # self.assertEqual(ti2.duration(), 86400)\n",
    "\n",
    "    def test_overlap(self):\n",
    "        ti1 = TimeInterval(datetime(2022, 1, 1, 0), datetime(2022, 1, 1, 1))\n",
    "        ti2 = TimeInterval(datetime(2022, 1, 1, 0), datetime(2022, 1, 1, 1))\n",
    "        self.assertTrue(ti1.overlap(ti2))\n",
    "        ti3 = TimeInterval(datetime(2022, 1, 1, 0), datetime(2022, 1, 1, 0, 30))\n",
    "        self.assertTrue(ti1.overlap(ti3))\n",
    "        ti4 = TimeInterval(datetime(2022, 1, 1, 1), datetime(2022, 1, 1, 2))\n",
    "        self.assertFalse(ti1.overlap(ti4))\n",
    "    \n",
    "    def test_contains(self):\n",
    "        ti1 = TimeInterval(datetime(2022, 1, 1, 0), datetime(2022, 1, 1, 1))\n",
    "        ti2 = TimeInterval(datetime(2022, 1, 1, 0), datetime(2022, 1, 1, 1))\n",
    "        self.assertTrue(ti1.contains(ti2))\n",
    "        ti3 = TimeInterval(datetime(2022, 1, 1, 0), datetime(2022, 1, 1, 0, 30))\n",
    "        self.assertTrue(ti1.contains(ti3))\n",
    "        ti4 = TimeInterval(datetime(2022, 1, 1, 0, 30), datetime(2022, 1, 1, 2))\n",
    "        self.assertFalse(ti1.contains(ti4))\n",
    "\n",
    "\n",
    "class TestTimeIntervals(unittest.TestCase):\n",
    "    \n",
    "        def test_constructor(self):\n",
    "            intervals = TimeIntervals([TimeInterval(datetime(2022, 1, 1, 0), datetime(2022, 1, 1, 1)),\n",
    "                                    TimeInterval(datetime(2022, 1, 1, 2), datetime(2022, 1, 1, 3))])\n",
    "            self.assertEqual(len(intervals.intervals), 2)\n",
    "            self.assertEqual(intervals.intervals[0].start_time, datetime(2022, 1, 1, 0))\n",
    "            self.assertEqual(intervals.intervals[0].end_time, datetime(2022, 1, 1, 1))\n",
    "            self.assertEqual(intervals.intervals[1].start_time, datetime(2022, 1, 1, 2))\n",
    "            self.assertEqual(intervals.intervals[1].end_time, datetime(2022, 1, 1, 3))\n",
    "    \n",
    "        def test_duration(self):\n",
    "            intervals = TimeIntervals([TimeInterval(datetime(2022, 1, 1, 0), datetime(2022, 1, 1, 1)),\n",
    "                                    TimeInterval(datetime(2022, 1, 1, 2), datetime(2022, 1, 1, 3))])\n",
    "            self.assertEqual(intervals.duration(), 7200)\n",
    "    \n",
    "        def test_overlap(self):\n",
    "            intervals1 = TimeIntervals([TimeInterval(datetime(2022, 1, 1, 0), datetime(2022, 1, 1, 1)),\n",
    "                                        TimeInterval(datetime(2022, 1, 1, 2), datetime(2022, 1, 1, 3))])\n",
    "            intervals2 = TimeIntervals([TimeInterval(datetime(2022, 1, 1, 1, 30), datetime(2022, 1, 1, 2, 30)),\n",
    "                                        TimeInterval(datetime(2022, 1, 1, 3), datetime(2022, 1, 1, 4))])\n",
    "            self.assertTrue(intervals1.overlap(intervals2))\n",
    "            intervals3 = TimeIntervals([TimeInterval(datetime(2022, 1, 1, 1), datetime(2022, 1, 1, 2)),\n",
    "                                        TimeInterval(datetime(2022, 1, 1, 3), datetime(2022, 1, 1, 4))])\n",
    "            self.assertFalse(intervals1.overlap(intervals3))\n",
    "\n",
    "        def test_contains(self, interval = TimeInterval(datetime(2022, 1, 1, 0), datetime(2022, 1, 1, 1))):\n",
    "            intervals1 = TimeIntervals([TimeInterval(datetime(2022, 1, 1, 0), datetime(2022, 1, 1, 1)),\n",
    "                                        TimeInterval(datetime(2022, 1, 1, 2), datetime(2022, 1, 1, 3))])\n",
    "            self.assertTrue(intervals1.contains(interval))\n",
    "            intervals2 = TimeIntervals([TimeInterval(datetime(2022, 1, 1, 0, 30), datetime(2022, 1, 1, 1, 30)),\n",
    "                                        TimeInterval(datetime(2022, 1, 1, 2), datetime(2022, 1, 1, 3))])\n",
    "            self.assertFalse(intervals2.contains(interval))\n",
    "\n",
    "        def test_visualize_gantt(self):\n",
    "            intervals = TimeIntervals([TimeInterval(datetime(2022, 1, 1, 0), datetime(2022, 1, 1, 1)),\n",
    "                                    TimeInterval(datetime(2022, 1, 1, 2), datetime(2022, 1, 1, 3))])\n",
    "            intervals.visualize_gantt()\n",
    "\n",
    "        \n"
   ]
  },
  {
   "cell_type": "code",
   "execution_count": 82,
   "metadata": {},
   "outputs": [
    {
     "name": "stderr",
     "output_type": "stream",
     "text": [
      "test_constructor (__main__.TestTimeInterval) ... ok\n",
      "test_contains (__main__.TestTimeInterval) ... ok\n",
      "test_duration (__main__.TestTimeInterval) ... ok\n",
      "test_overlap (__main__.TestTimeInterval) ... ok\n",
      "test_constructor (__main__.TestTimeIntervals) ... ok\n",
      "test_contains (__main__.TestTimeIntervals) ... ok\n",
      "test_duration (__main__.TestTimeIntervals) ... ok\n",
      "test_overlap (__main__.TestTimeIntervals) ... ok\n",
      "test_visualize_gantt (__main__.TestTimeIntervals) ... /Users/spatipan/miniconda3/envs/shift/lib/python3.9/site-packages/plotly/io/_renderers.py:395: DeprecationWarning:\n",
      "\n",
      "distutils Version classes are deprecated. Use packaging.version instead.\n",
      "\n"
     ]
    },
    {
     "data": {
      "application/vnd.plotly.v1+json": {
       "config": {
        "plotlyServerURL": "https://plot.ly"
       },
       "data": [
        {
         "alignmentgroup": "True",
         "base": [
          "2022-01-01T00:00:00",
          "2022-01-01T02:00:00"
         ],
         "hovertemplate": "Start=%{base}<br>Finish=%{x}<br>Task=%{y}<extra></extra>",
         "legendgroup": "",
         "marker": {
          "color": "#636efa",
          "pattern": {
           "shape": ""
          }
         },
         "name": "",
         "offsetgroup": "",
         "orientation": "h",
         "showlegend": false,
         "textposition": "auto",
         "type": "bar",
         "x": [
          3600000,
          3600000
         ],
         "xaxis": "x",
         "y": [
          "Time Intervals",
          "Time Intervals"
         ],
         "yaxis": "y"
        }
       ],
       "layout": {
        "barmode": "overlay",
        "height": 300,
        "legend": {
         "tracegroupgap": 0
        },
        "margin": {
         "b": 0,
         "l": 0,
         "r": 0,
         "t": 30
        },
        "template": {
         "data": {
          "bar": [
           {
            "error_x": {
             "color": "#2a3f5f"
            },
            "error_y": {
             "color": "#2a3f5f"
            },
            "marker": {
             "line": {
              "color": "#E5ECF6",
              "width": 0.5
             },
             "pattern": {
              "fillmode": "overlay",
              "size": 10,
              "solidity": 0.2
             }
            },
            "type": "bar"
           }
          ],
          "barpolar": [
           {
            "marker": {
             "line": {
              "color": "#E5ECF6",
              "width": 0.5
             },
             "pattern": {
              "fillmode": "overlay",
              "size": 10,
              "solidity": 0.2
             }
            },
            "type": "barpolar"
           }
          ],
          "carpet": [
           {
            "aaxis": {
             "endlinecolor": "#2a3f5f",
             "gridcolor": "white",
             "linecolor": "white",
             "minorgridcolor": "white",
             "startlinecolor": "#2a3f5f"
            },
            "baxis": {
             "endlinecolor": "#2a3f5f",
             "gridcolor": "white",
             "linecolor": "white",
             "minorgridcolor": "white",
             "startlinecolor": "#2a3f5f"
            },
            "type": "carpet"
           }
          ],
          "choropleth": [
           {
            "colorbar": {
             "outlinewidth": 0,
             "ticks": ""
            },
            "type": "choropleth"
           }
          ],
          "contour": [
           {
            "colorbar": {
             "outlinewidth": 0,
             "ticks": ""
            },
            "colorscale": [
             [
              0,
              "#0d0887"
             ],
             [
              0.1111111111111111,
              "#46039f"
             ],
             [
              0.2222222222222222,
              "#7201a8"
             ],
             [
              0.3333333333333333,
              "#9c179e"
             ],
             [
              0.4444444444444444,
              "#bd3786"
             ],
             [
              0.5555555555555556,
              "#d8576b"
             ],
             [
              0.6666666666666666,
              "#ed7953"
             ],
             [
              0.7777777777777778,
              "#fb9f3a"
             ],
             [
              0.8888888888888888,
              "#fdca26"
             ],
             [
              1,
              "#f0f921"
             ]
            ],
            "type": "contour"
           }
          ],
          "contourcarpet": [
           {
            "colorbar": {
             "outlinewidth": 0,
             "ticks": ""
            },
            "type": "contourcarpet"
           }
          ],
          "heatmap": [
           {
            "colorbar": {
             "outlinewidth": 0,
             "ticks": ""
            },
            "colorscale": [
             [
              0,
              "#0d0887"
             ],
             [
              0.1111111111111111,
              "#46039f"
             ],
             [
              0.2222222222222222,
              "#7201a8"
             ],
             [
              0.3333333333333333,
              "#9c179e"
             ],
             [
              0.4444444444444444,
              "#bd3786"
             ],
             [
              0.5555555555555556,
              "#d8576b"
             ],
             [
              0.6666666666666666,
              "#ed7953"
             ],
             [
              0.7777777777777778,
              "#fb9f3a"
             ],
             [
              0.8888888888888888,
              "#fdca26"
             ],
             [
              1,
              "#f0f921"
             ]
            ],
            "type": "heatmap"
           }
          ],
          "heatmapgl": [
           {
            "colorbar": {
             "outlinewidth": 0,
             "ticks": ""
            },
            "colorscale": [
             [
              0,
              "#0d0887"
             ],
             [
              0.1111111111111111,
              "#46039f"
             ],
             [
              0.2222222222222222,
              "#7201a8"
             ],
             [
              0.3333333333333333,
              "#9c179e"
             ],
             [
              0.4444444444444444,
              "#bd3786"
             ],
             [
              0.5555555555555556,
              "#d8576b"
             ],
             [
              0.6666666666666666,
              "#ed7953"
             ],
             [
              0.7777777777777778,
              "#fb9f3a"
             ],
             [
              0.8888888888888888,
              "#fdca26"
             ],
             [
              1,
              "#f0f921"
             ]
            ],
            "type": "heatmapgl"
           }
          ],
          "histogram": [
           {
            "marker": {
             "pattern": {
              "fillmode": "overlay",
              "size": 10,
              "solidity": 0.2
             }
            },
            "type": "histogram"
           }
          ],
          "histogram2d": [
           {
            "colorbar": {
             "outlinewidth": 0,
             "ticks": ""
            },
            "colorscale": [
             [
              0,
              "#0d0887"
             ],
             [
              0.1111111111111111,
              "#46039f"
             ],
             [
              0.2222222222222222,
              "#7201a8"
             ],
             [
              0.3333333333333333,
              "#9c179e"
             ],
             [
              0.4444444444444444,
              "#bd3786"
             ],
             [
              0.5555555555555556,
              "#d8576b"
             ],
             [
              0.6666666666666666,
              "#ed7953"
             ],
             [
              0.7777777777777778,
              "#fb9f3a"
             ],
             [
              0.8888888888888888,
              "#fdca26"
             ],
             [
              1,
              "#f0f921"
             ]
            ],
            "type": "histogram2d"
           }
          ],
          "histogram2dcontour": [
           {
            "colorbar": {
             "outlinewidth": 0,
             "ticks": ""
            },
            "colorscale": [
             [
              0,
              "#0d0887"
             ],
             [
              0.1111111111111111,
              "#46039f"
             ],
             [
              0.2222222222222222,
              "#7201a8"
             ],
             [
              0.3333333333333333,
              "#9c179e"
             ],
             [
              0.4444444444444444,
              "#bd3786"
             ],
             [
              0.5555555555555556,
              "#d8576b"
             ],
             [
              0.6666666666666666,
              "#ed7953"
             ],
             [
              0.7777777777777778,
              "#fb9f3a"
             ],
             [
              0.8888888888888888,
              "#fdca26"
             ],
             [
              1,
              "#f0f921"
             ]
            ],
            "type": "histogram2dcontour"
           }
          ],
          "mesh3d": [
           {
            "colorbar": {
             "outlinewidth": 0,
             "ticks": ""
            },
            "type": "mesh3d"
           }
          ],
          "parcoords": [
           {
            "line": {
             "colorbar": {
              "outlinewidth": 0,
              "ticks": ""
             }
            },
            "type": "parcoords"
           }
          ],
          "pie": [
           {
            "automargin": true,
            "type": "pie"
           }
          ],
          "scatter": [
           {
            "fillpattern": {
             "fillmode": "overlay",
             "size": 10,
             "solidity": 0.2
            },
            "type": "scatter"
           }
          ],
          "scatter3d": [
           {
            "line": {
             "colorbar": {
              "outlinewidth": 0,
              "ticks": ""
             }
            },
            "marker": {
             "colorbar": {
              "outlinewidth": 0,
              "ticks": ""
             }
            },
            "type": "scatter3d"
           }
          ],
          "scattercarpet": [
           {
            "marker": {
             "colorbar": {
              "outlinewidth": 0,
              "ticks": ""
             }
            },
            "type": "scattercarpet"
           }
          ],
          "scattergeo": [
           {
            "marker": {
             "colorbar": {
              "outlinewidth": 0,
              "ticks": ""
             }
            },
            "type": "scattergeo"
           }
          ],
          "scattergl": [
           {
            "marker": {
             "colorbar": {
              "outlinewidth": 0,
              "ticks": ""
             }
            },
            "type": "scattergl"
           }
          ],
          "scattermapbox": [
           {
            "marker": {
             "colorbar": {
              "outlinewidth": 0,
              "ticks": ""
             }
            },
            "type": "scattermapbox"
           }
          ],
          "scatterpolar": [
           {
            "marker": {
             "colorbar": {
              "outlinewidth": 0,
              "ticks": ""
             }
            },
            "type": "scatterpolar"
           }
          ],
          "scatterpolargl": [
           {
            "marker": {
             "colorbar": {
              "outlinewidth": 0,
              "ticks": ""
             }
            },
            "type": "scatterpolargl"
           }
          ],
          "scatterternary": [
           {
            "marker": {
             "colorbar": {
              "outlinewidth": 0,
              "ticks": ""
             }
            },
            "type": "scatterternary"
           }
          ],
          "surface": [
           {
            "colorbar": {
             "outlinewidth": 0,
             "ticks": ""
            },
            "colorscale": [
             [
              0,
              "#0d0887"
             ],
             [
              0.1111111111111111,
              "#46039f"
             ],
             [
              0.2222222222222222,
              "#7201a8"
             ],
             [
              0.3333333333333333,
              "#9c179e"
             ],
             [
              0.4444444444444444,
              "#bd3786"
             ],
             [
              0.5555555555555556,
              "#d8576b"
             ],
             [
              0.6666666666666666,
              "#ed7953"
             ],
             [
              0.7777777777777778,
              "#fb9f3a"
             ],
             [
              0.8888888888888888,
              "#fdca26"
             ],
             [
              1,
              "#f0f921"
             ]
            ],
            "type": "surface"
           }
          ],
          "table": [
           {
            "cells": {
             "fill": {
              "color": "#EBF0F8"
             },
             "line": {
              "color": "white"
             }
            },
            "header": {
             "fill": {
              "color": "#C8D4E3"
             },
             "line": {
              "color": "white"
             }
            },
            "type": "table"
           }
          ]
         },
         "layout": {
          "annotationdefaults": {
           "arrowcolor": "#2a3f5f",
           "arrowhead": 0,
           "arrowwidth": 1
          },
          "autotypenumbers": "strict",
          "coloraxis": {
           "colorbar": {
            "outlinewidth": 0,
            "ticks": ""
           }
          },
          "colorscale": {
           "diverging": [
            [
             0,
             "#8e0152"
            ],
            [
             0.1,
             "#c51b7d"
            ],
            [
             0.2,
             "#de77ae"
            ],
            [
             0.3,
             "#f1b6da"
            ],
            [
             0.4,
             "#fde0ef"
            ],
            [
             0.5,
             "#f7f7f7"
            ],
            [
             0.6,
             "#e6f5d0"
            ],
            [
             0.7,
             "#b8e186"
            ],
            [
             0.8,
             "#7fbc41"
            ],
            [
             0.9,
             "#4d9221"
            ],
            [
             1,
             "#276419"
            ]
           ],
           "sequential": [
            [
             0,
             "#0d0887"
            ],
            [
             0.1111111111111111,
             "#46039f"
            ],
            [
             0.2222222222222222,
             "#7201a8"
            ],
            [
             0.3333333333333333,
             "#9c179e"
            ],
            [
             0.4444444444444444,
             "#bd3786"
            ],
            [
             0.5555555555555556,
             "#d8576b"
            ],
            [
             0.6666666666666666,
             "#ed7953"
            ],
            [
             0.7777777777777778,
             "#fb9f3a"
            ],
            [
             0.8888888888888888,
             "#fdca26"
            ],
            [
             1,
             "#f0f921"
            ]
           ],
           "sequentialminus": [
            [
             0,
             "#0d0887"
            ],
            [
             0.1111111111111111,
             "#46039f"
            ],
            [
             0.2222222222222222,
             "#7201a8"
            ],
            [
             0.3333333333333333,
             "#9c179e"
            ],
            [
             0.4444444444444444,
             "#bd3786"
            ],
            [
             0.5555555555555556,
             "#d8576b"
            ],
            [
             0.6666666666666666,
             "#ed7953"
            ],
            [
             0.7777777777777778,
             "#fb9f3a"
            ],
            [
             0.8888888888888888,
             "#fdca26"
            ],
            [
             1,
             "#f0f921"
            ]
           ]
          },
          "colorway": [
           "#636efa",
           "#EF553B",
           "#00cc96",
           "#ab63fa",
           "#FFA15A",
           "#19d3f3",
           "#FF6692",
           "#B6E880",
           "#FF97FF",
           "#FECB52"
          ],
          "font": {
           "color": "#2a3f5f"
          },
          "geo": {
           "bgcolor": "white",
           "lakecolor": "white",
           "landcolor": "#E5ECF6",
           "showlakes": true,
           "showland": true,
           "subunitcolor": "white"
          },
          "hoverlabel": {
           "align": "left"
          },
          "hovermode": "closest",
          "mapbox": {
           "style": "light"
          },
          "paper_bgcolor": "white",
          "plot_bgcolor": "#E5ECF6",
          "polar": {
           "angularaxis": {
            "gridcolor": "white",
            "linecolor": "white",
            "ticks": ""
           },
           "bgcolor": "#E5ECF6",
           "radialaxis": {
            "gridcolor": "white",
            "linecolor": "white",
            "ticks": ""
           }
          },
          "scene": {
           "xaxis": {
            "backgroundcolor": "#E5ECF6",
            "gridcolor": "white",
            "gridwidth": 2,
            "linecolor": "white",
            "showbackground": true,
            "ticks": "",
            "zerolinecolor": "white"
           },
           "yaxis": {
            "backgroundcolor": "#E5ECF6",
            "gridcolor": "white",
            "gridwidth": 2,
            "linecolor": "white",
            "showbackground": true,
            "ticks": "",
            "zerolinecolor": "white"
           },
           "zaxis": {
            "backgroundcolor": "#E5ECF6",
            "gridcolor": "white",
            "gridwidth": 2,
            "linecolor": "white",
            "showbackground": true,
            "ticks": "",
            "zerolinecolor": "white"
           }
          },
          "shapedefaults": {
           "line": {
            "color": "#2a3f5f"
           }
          },
          "ternary": {
           "aaxis": {
            "gridcolor": "white",
            "linecolor": "white",
            "ticks": ""
           },
           "baxis": {
            "gridcolor": "white",
            "linecolor": "white",
            "ticks": ""
           },
           "bgcolor": "#E5ECF6",
           "caxis": {
            "gridcolor": "white",
            "linecolor": "white",
            "ticks": ""
           }
          },
          "title": {
           "x": 0.05
          },
          "xaxis": {
           "automargin": true,
           "gridcolor": "white",
           "linecolor": "white",
           "ticks": "",
           "title": {
            "standoff": 15
           },
           "zerolinecolor": "white",
           "zerolinewidth": 2
          },
          "yaxis": {
           "automargin": true,
           "gridcolor": "white",
           "linecolor": "white",
           "ticks": "",
           "title": {
            "standoff": 15
           },
           "zerolinecolor": "white",
           "zerolinewidth": 2
          }
         }
        },
        "title": {
         "text": "Time Intervals"
        },
        "xaxis": {
         "anchor": "y",
         "domain": [
          0,
          1
         ],
         "showgrid": true,
         "showticklabels": true,
         "type": "date"
        },
        "yaxis": {
         "anchor": "x",
         "autorange": "reversed",
         "domain": [
          0,
          1
         ],
         "showgrid": false,
         "showticklabels": true,
         "title": {
          "text": "Task"
         }
        }
       }
      }
     },
     "metadata": {},
     "output_type": "display_data"
    },
    {
     "name": "stderr",
     "output_type": "stream",
     "text": [
      "ok\n",
      "\n",
      "----------------------------------------------------------------------\n",
      "Ran 9 tests in 0.061s\n",
      "\n",
      "OK\n"
     ]
    },
    {
     "data": {
      "text/plain": [
       "<unittest.main.TestProgram at 0x1282aaca0>"
      ]
     },
     "execution_count": 82,
     "metadata": {},
     "output_type": "execute_result"
    }
   ],
   "source": [
    "# Run the unit tests\n",
    "unittest.main(argv=[''], verbosity=2, exit=False)\n"
   ]
  }
 ],
 "metadata": {
  "kernelspec": {
   "display_name": "shift",
   "language": "python",
   "name": "python3"
  },
  "language_info": {
   "codemirror_mode": {
    "name": "ipython",
    "version": 3
   },
   "file_extension": ".py",
   "mimetype": "text/x-python",
   "name": "python",
   "nbconvert_exporter": "python",
   "pygments_lexer": "ipython3",
   "version": "3.9.15"
  },
  "orig_nbformat": 4,
  "vscode": {
   "interpreter": {
    "hash": "91871c564c763eb1d5c82ae4f749b96e3dcd94d5076ee842c8c9eaebbb951f3b"
   }
  }
 },
 "nbformat": 4,
 "nbformat_minor": 2
}
