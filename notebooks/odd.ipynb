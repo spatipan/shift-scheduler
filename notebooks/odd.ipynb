{
 "cells": [
  {
   "cell_type": "code",
   "execution_count": 1,
   "metadata": {},
   "outputs": [],
   "source": [
    "from datetime import datetime, timedelta\n",
    "import pandas as pd\n",
    "import plotly.figure_factory as ff\n",
    "from ortools.sat.python import cp_model\n",
    "from bisect import bisect_left, bisect_right\n",
    "import matplotlib.pyplot as plt\n",
    "import numpy as np\n",
    "import plotly.express as px\n",
    "import unittest\n",
    "# from src.objects.timeinterval import *\n",
    "# from src.utils.utils import *\n",
    "import uuid"
   ]
  },
  {
   "cell_type": "code",
   "execution_count": 2,
   "metadata": {},
   "outputs": [
    {
     "data": {
      "application/vnd.plotly.v1+json": {
       "config": {
        "plotlyServerURL": "https://plot.ly"
       },
       "data": [
        {
         "alignmentgroup": "True",
         "base": [
          "2023-02-01T10:00:00",
          "2023-02-01T12:00:00",
          "2023-02-01T14:00:00"
         ],
         "hovertemplate": "Start=%{base}<br>Finish=%{x}<br>Task=%{y}<extra></extra>",
         "legendgroup": "",
         "marker": {
          "color": "#636efa",
          "pattern": {
           "shape": ""
          }
         },
         "name": "",
         "offsetgroup": "",
         "orientation": "h",
         "showlegend": false,
         "textposition": "auto",
         "type": "bar",
         "x": [
          3600000,
          3600000,
          7200000
         ],
         "xaxis": "x",
         "y": [
          "Time Intervals",
          "Time Intervals",
          "Time Intervals"
         ],
         "yaxis": "y"
        }
       ],
       "layout": {
        "barmode": "overlay",
        "height": 300,
        "legend": {
         "tracegroupgap": 0
        },
        "margin": {
         "b": 0,
         "l": 0,
         "r": 0,
         "t": 30
        },
        "template": {
         "data": {
          "bar": [
           {
            "error_x": {
             "color": "#2a3f5f"
            },
            "error_y": {
             "color": "#2a3f5f"
            },
            "marker": {
             "line": {
              "color": "#E5ECF6",
              "width": 0.5
             },
             "pattern": {
              "fillmode": "overlay",
              "size": 10,
              "solidity": 0.2
             }
            },
            "type": "bar"
           }
          ],
          "barpolar": [
           {
            "marker": {
             "line": {
              "color": "#E5ECF6",
              "width": 0.5
             },
             "pattern": {
              "fillmode": "overlay",
              "size": 10,
              "solidity": 0.2
             }
            },
            "type": "barpolar"
           }
          ],
          "carpet": [
           {
            "aaxis": {
             "endlinecolor": "#2a3f5f",
             "gridcolor": "white",
             "linecolor": "white",
             "minorgridcolor": "white",
             "startlinecolor": "#2a3f5f"
            },
            "baxis": {
             "endlinecolor": "#2a3f5f",
             "gridcolor": "white",
             "linecolor": "white",
             "minorgridcolor": "white",
             "startlinecolor": "#2a3f5f"
            },
            "type": "carpet"
           }
          ],
          "choropleth": [
           {
            "colorbar": {
             "outlinewidth": 0,
             "ticks": ""
            },
            "type": "choropleth"
           }
          ],
          "contour": [
           {
            "colorbar": {
             "outlinewidth": 0,
             "ticks": ""
            },
            "colorscale": [
             [
              0,
              "#0d0887"
             ],
             [
              0.1111111111111111,
              "#46039f"
             ],
             [
              0.2222222222222222,
              "#7201a8"
             ],
             [
              0.3333333333333333,
              "#9c179e"
             ],
             [
              0.4444444444444444,
              "#bd3786"
             ],
             [
              0.5555555555555556,
              "#d8576b"
             ],
             [
              0.6666666666666666,
              "#ed7953"
             ],
             [
              0.7777777777777778,
              "#fb9f3a"
             ],
             [
              0.8888888888888888,
              "#fdca26"
             ],
             [
              1,
              "#f0f921"
             ]
            ],
            "type": "contour"
           }
          ],
          "contourcarpet": [
           {
            "colorbar": {
             "outlinewidth": 0,
             "ticks": ""
            },
            "type": "contourcarpet"
           }
          ],
          "heatmap": [
           {
            "colorbar": {
             "outlinewidth": 0,
             "ticks": ""
            },
            "colorscale": [
             [
              0,
              "#0d0887"
             ],
             [
              0.1111111111111111,
              "#46039f"
             ],
             [
              0.2222222222222222,
              "#7201a8"
             ],
             [
              0.3333333333333333,
              "#9c179e"
             ],
             [
              0.4444444444444444,
              "#bd3786"
             ],
             [
              0.5555555555555556,
              "#d8576b"
             ],
             [
              0.6666666666666666,
              "#ed7953"
             ],
             [
              0.7777777777777778,
              "#fb9f3a"
             ],
             [
              0.8888888888888888,
              "#fdca26"
             ],
             [
              1,
              "#f0f921"
             ]
            ],
            "type": "heatmap"
           }
          ],
          "heatmapgl": [
           {
            "colorbar": {
             "outlinewidth": 0,
             "ticks": ""
            },
            "colorscale": [
             [
              0,
              "#0d0887"
             ],
             [
              0.1111111111111111,
              "#46039f"
             ],
             [
              0.2222222222222222,
              "#7201a8"
             ],
             [
              0.3333333333333333,
              "#9c179e"
             ],
             [
              0.4444444444444444,
              "#bd3786"
             ],
             [
              0.5555555555555556,
              "#d8576b"
             ],
             [
              0.6666666666666666,
              "#ed7953"
             ],
             [
              0.7777777777777778,
              "#fb9f3a"
             ],
             [
              0.8888888888888888,
              "#fdca26"
             ],
             [
              1,
              "#f0f921"
             ]
            ],
            "type": "heatmapgl"
           }
          ],
          "histogram": [
           {
            "marker": {
             "pattern": {
              "fillmode": "overlay",
              "size": 10,
              "solidity": 0.2
             }
            },
            "type": "histogram"
           }
          ],
          "histogram2d": [
           {
            "colorbar": {
             "outlinewidth": 0,
             "ticks": ""
            },
            "colorscale": [
             [
              0,
              "#0d0887"
             ],
             [
              0.1111111111111111,
              "#46039f"
             ],
             [
              0.2222222222222222,
              "#7201a8"
             ],
             [
              0.3333333333333333,
              "#9c179e"
             ],
             [
              0.4444444444444444,
              "#bd3786"
             ],
             [
              0.5555555555555556,
              "#d8576b"
             ],
             [
              0.6666666666666666,
              "#ed7953"
             ],
             [
              0.7777777777777778,
              "#fb9f3a"
             ],
             [
              0.8888888888888888,
              "#fdca26"
             ],
             [
              1,
              "#f0f921"
             ]
            ],
            "type": "histogram2d"
           }
          ],
          "histogram2dcontour": [
           {
            "colorbar": {
             "outlinewidth": 0,
             "ticks": ""
            },
            "colorscale": [
             [
              0,
              "#0d0887"
             ],
             [
              0.1111111111111111,
              "#46039f"
             ],
             [
              0.2222222222222222,
              "#7201a8"
             ],
             [
              0.3333333333333333,
              "#9c179e"
             ],
             [
              0.4444444444444444,
              "#bd3786"
             ],
             [
              0.5555555555555556,
              "#d8576b"
             ],
             [
              0.6666666666666666,
              "#ed7953"
             ],
             [
              0.7777777777777778,
              "#fb9f3a"
             ],
             [
              0.8888888888888888,
              "#fdca26"
             ],
             [
              1,
              "#f0f921"
             ]
            ],
            "type": "histogram2dcontour"
           }
          ],
          "mesh3d": [
           {
            "colorbar": {
             "outlinewidth": 0,
             "ticks": ""
            },
            "type": "mesh3d"
           }
          ],
          "parcoords": [
           {
            "line": {
             "colorbar": {
              "outlinewidth": 0,
              "ticks": ""
             }
            },
            "type": "parcoords"
           }
          ],
          "pie": [
           {
            "automargin": true,
            "type": "pie"
           }
          ],
          "scatter": [
           {
            "fillpattern": {
             "fillmode": "overlay",
             "size": 10,
             "solidity": 0.2
            },
            "type": "scatter"
           }
          ],
          "scatter3d": [
           {
            "line": {
             "colorbar": {
              "outlinewidth": 0,
              "ticks": ""
             }
            },
            "marker": {
             "colorbar": {
              "outlinewidth": 0,
              "ticks": ""
             }
            },
            "type": "scatter3d"
           }
          ],
          "scattercarpet": [
           {
            "marker": {
             "colorbar": {
              "outlinewidth": 0,
              "ticks": ""
             }
            },
            "type": "scattercarpet"
           }
          ],
          "scattergeo": [
           {
            "marker": {
             "colorbar": {
              "outlinewidth": 0,
              "ticks": ""
             }
            },
            "type": "scattergeo"
           }
          ],
          "scattergl": [
           {
            "marker": {
             "colorbar": {
              "outlinewidth": 0,
              "ticks": ""
             }
            },
            "type": "scattergl"
           }
          ],
          "scattermapbox": [
           {
            "marker": {
             "colorbar": {
              "outlinewidth": 0,
              "ticks": ""
             }
            },
            "type": "scattermapbox"
           }
          ],
          "scatterpolar": [
           {
            "marker": {
             "colorbar": {
              "outlinewidth": 0,
              "ticks": ""
             }
            },
            "type": "scatterpolar"
           }
          ],
          "scatterpolargl": [
           {
            "marker": {
             "colorbar": {
              "outlinewidth": 0,
              "ticks": ""
             }
            },
            "type": "scatterpolargl"
           }
          ],
          "scatterternary": [
           {
            "marker": {
             "colorbar": {
              "outlinewidth": 0,
              "ticks": ""
             }
            },
            "type": "scatterternary"
           }
          ],
          "surface": [
           {
            "colorbar": {
             "outlinewidth": 0,
             "ticks": ""
            },
            "colorscale": [
             [
              0,
              "#0d0887"
             ],
             [
              0.1111111111111111,
              "#46039f"
             ],
             [
              0.2222222222222222,
              "#7201a8"
             ],
             [
              0.3333333333333333,
              "#9c179e"
             ],
             [
              0.4444444444444444,
              "#bd3786"
             ],
             [
              0.5555555555555556,
              "#d8576b"
             ],
             [
              0.6666666666666666,
              "#ed7953"
             ],
             [
              0.7777777777777778,
              "#fb9f3a"
             ],
             [
              0.8888888888888888,
              "#fdca26"
             ],
             [
              1,
              "#f0f921"
             ]
            ],
            "type": "surface"
           }
          ],
          "table": [
           {
            "cells": {
             "fill": {
              "color": "#EBF0F8"
             },
             "line": {
              "color": "white"
             }
            },
            "header": {
             "fill": {
              "color": "#C8D4E3"
             },
             "line": {
              "color": "white"
             }
            },
            "type": "table"
           }
          ]
         },
         "layout": {
          "annotationdefaults": {
           "arrowcolor": "#2a3f5f",
           "arrowhead": 0,
           "arrowwidth": 1
          },
          "autotypenumbers": "strict",
          "coloraxis": {
           "colorbar": {
            "outlinewidth": 0,
            "ticks": ""
           }
          },
          "colorscale": {
           "diverging": [
            [
             0,
             "#8e0152"
            ],
            [
             0.1,
             "#c51b7d"
            ],
            [
             0.2,
             "#de77ae"
            ],
            [
             0.3,
             "#f1b6da"
            ],
            [
             0.4,
             "#fde0ef"
            ],
            [
             0.5,
             "#f7f7f7"
            ],
            [
             0.6,
             "#e6f5d0"
            ],
            [
             0.7,
             "#b8e186"
            ],
            [
             0.8,
             "#7fbc41"
            ],
            [
             0.9,
             "#4d9221"
            ],
            [
             1,
             "#276419"
            ]
           ],
           "sequential": [
            [
             0,
             "#0d0887"
            ],
            [
             0.1111111111111111,
             "#46039f"
            ],
            [
             0.2222222222222222,
             "#7201a8"
            ],
            [
             0.3333333333333333,
             "#9c179e"
            ],
            [
             0.4444444444444444,
             "#bd3786"
            ],
            [
             0.5555555555555556,
             "#d8576b"
            ],
            [
             0.6666666666666666,
             "#ed7953"
            ],
            [
             0.7777777777777778,
             "#fb9f3a"
            ],
            [
             0.8888888888888888,
             "#fdca26"
            ],
            [
             1,
             "#f0f921"
            ]
           ],
           "sequentialminus": [
            [
             0,
             "#0d0887"
            ],
            [
             0.1111111111111111,
             "#46039f"
            ],
            [
             0.2222222222222222,
             "#7201a8"
            ],
            [
             0.3333333333333333,
             "#9c179e"
            ],
            [
             0.4444444444444444,
             "#bd3786"
            ],
            [
             0.5555555555555556,
             "#d8576b"
            ],
            [
             0.6666666666666666,
             "#ed7953"
            ],
            [
             0.7777777777777778,
             "#fb9f3a"
            ],
            [
             0.8888888888888888,
             "#fdca26"
            ],
            [
             1,
             "#f0f921"
            ]
           ]
          },
          "colorway": [
           "#636efa",
           "#EF553B",
           "#00cc96",
           "#ab63fa",
           "#FFA15A",
           "#19d3f3",
           "#FF6692",
           "#B6E880",
           "#FF97FF",
           "#FECB52"
          ],
          "font": {
           "color": "#2a3f5f"
          },
          "geo": {
           "bgcolor": "white",
           "lakecolor": "white",
           "landcolor": "#E5ECF6",
           "showlakes": true,
           "showland": true,
           "subunitcolor": "white"
          },
          "hoverlabel": {
           "align": "left"
          },
          "hovermode": "closest",
          "mapbox": {
           "style": "light"
          },
          "paper_bgcolor": "white",
          "plot_bgcolor": "#E5ECF6",
          "polar": {
           "angularaxis": {
            "gridcolor": "white",
            "linecolor": "white",
            "ticks": ""
           },
           "bgcolor": "#E5ECF6",
           "radialaxis": {
            "gridcolor": "white",
            "linecolor": "white",
            "ticks": ""
           }
          },
          "scene": {
           "xaxis": {
            "backgroundcolor": "#E5ECF6",
            "gridcolor": "white",
            "gridwidth": 2,
            "linecolor": "white",
            "showbackground": true,
            "ticks": "",
            "zerolinecolor": "white"
           },
           "yaxis": {
            "backgroundcolor": "#E5ECF6",
            "gridcolor": "white",
            "gridwidth": 2,
            "linecolor": "white",
            "showbackground": true,
            "ticks": "",
            "zerolinecolor": "white"
           },
           "zaxis": {
            "backgroundcolor": "#E5ECF6",
            "gridcolor": "white",
            "gridwidth": 2,
            "linecolor": "white",
            "showbackground": true,
            "ticks": "",
            "zerolinecolor": "white"
           }
          },
          "shapedefaults": {
           "line": {
            "color": "#2a3f5f"
           }
          },
          "ternary": {
           "aaxis": {
            "gridcolor": "white",
            "linecolor": "white",
            "ticks": ""
           },
           "baxis": {
            "gridcolor": "white",
            "linecolor": "white",
            "ticks": ""
           },
           "bgcolor": "#E5ECF6",
           "caxis": {
            "gridcolor": "white",
            "linecolor": "white",
            "ticks": ""
           }
          },
          "title": {
           "x": 0.05
          },
          "xaxis": {
           "automargin": true,
           "gridcolor": "white",
           "linecolor": "white",
           "ticks": "",
           "title": {
            "standoff": 15
           },
           "zerolinecolor": "white",
           "zerolinewidth": 2
          },
          "yaxis": {
           "automargin": true,
           "gridcolor": "white",
           "linecolor": "white",
           "ticks": "",
           "title": {
            "standoff": 15
           },
           "zerolinecolor": "white",
           "zerolinewidth": 2
          }
         }
        },
        "title": {
         "text": "Time Intervals"
        },
        "xaxis": {
         "anchor": "y",
         "domain": [
          0,
          1
         ],
         "showgrid": true,
         "showticklabels": true,
         "type": "date"
        },
        "yaxis": {
         "anchor": "x",
         "autorange": "reversed",
         "domain": [
          0,
          1
         ],
         "showgrid": false,
         "showticklabels": true,
         "title": {
          "text": "Task"
         }
        }
       }
      }
     },
     "metadata": {},
     "output_type": "display_data"
    }
   ],
   "source": [
    "intervals = TimeIntervals([TimeInterval(datetime(2023, 2, 1, 10), datetime(2023, 2, 1, 11)),\n",
    "                           TimeInterval(datetime(2023, 2, 1, 12), datetime(2023, 2, 1, 13)),\n",
    "                           TimeInterval(datetime(2023, 2, 1, 14), datetime(2023, 2, 1, 16))])\n",
    "intervals.visualize_gantt()\n"
   ]
  },
  {
   "cell_type": "code",
   "execution_count": null,
   "metadata": {},
   "outputs": [],
   "source": []
  },
  {
   "cell_type": "code",
   "execution_count": null,
   "metadata": {},
   "outputs": [],
   "source": [
    "# Design classes for Shift scheduling problem (Employee, Shift, Schedule)\n",
    "\n",
    "# Employee class\n",
    "# Attributes: name: str, availability: TimeIntervals, assigned shifts: list of Shifts\n",
    "# Methods: change_availability, change_name\n",
    "\n",
    "# Shift class\n",
    "# Attributes: name: str, type: str, interval: TimeInterval, min employees: int, max employees: int, assigned employees: list of Employees\n",
    "# Methods: assign_employee, unassign_employee, change_interval, change_min_employees, change_max_employees, change_name, change_type\n",
    "\n",
    "# Single Shift class, which inherits from the Shift class\n",
    "# Attributes: None\n",
    "# Methods: None\n",
    "\n",
    "# Recurring Shift class, which inherits from the Shift class\n",
    "# Attributes: recurrence interval: timedelta, start date: datetime, end date: datetime, recurrence shifts: list of Shifts\n",
    "# Methods: get_recurrence_intervals, change_recurrence_interval, change_start_date, change_end_date, get_recurrence_shifts (returns a list of Shifts)\n",
    "\n",
    "# Schedule class\n",
    "# Attributes: name: str, employees: list of Employees, shifts: list of Shifts, shift types: list of str, start time: datetime, end time: datetime\n",
    "# Methods: add_employee, add_shift, reset, change_name, show, change_start_time, change_end_time, solve (solve the shift scheduling problem with OR-Tools and return the solution)\n",
    "\n"
   ]
  },
  {
   "cell_type": "code",
   "execution_count": 15,
   "metadata": {},
   "outputs": [],
   "source": [
    "class TimeInterval:\n",
    "    def __init__(self, start: datetime, end: datetime):\n",
    "        assert start < end, 'start must be less than end'\n",
    "        self._start = start\n",
    "        self._end = end\n",
    "\n",
    "    @property\n",
    "    def start(self):\n",
    "        return self._start\n",
    "\n",
    "    @start.setter\n",
    "    def start(self, start: datetime):\n",
    "        self._start = start\n",
    "\n",
    "    @property\n",
    "    def end(self):\n",
    "        return self._end\n",
    "\n",
    "    @end.setter\n",
    "    def end(self, end: datetime):\n",
    "        self._end = end\n",
    "\n",
    "    def __repr__(self) -> str:\n",
    "        return f'TimeInterval({self.start}, {self.end})'\n",
    "\n",
    "    def __str__(self) -> str:\n",
    "        return f'{self.start} - {self.end}'\n",
    "\n",
    "    def __eq__(self, other) -> bool:\n",
    "        assert isinstance(other, TimeInterval), 'compared object must be of type TimeInterval'\n",
    "        return self.start == other.start and self.end == other.end\n",
    "\n",
    "    def overlaps(self, other) -> bool:\n",
    "        return self.start < other.end and self.end > other.start\n",
    "\n",
    "    def contains(self, other) -> bool:\n",
    "        return self.start <= other.start and self.end >= other.end\n",
    "\n",
    "    def __contains__(self, other) -> bool:\n",
    "        return self.contains(other)\n",
    "\n",
    "    def __add__(self, other) -> list:\n",
    "        \"\"\"\n",
    "        Returns a list of TimeIntervals that are the union of self and other\n",
    "        \"\"\"\n",
    "        if self.overlaps(other):\n",
    "            return [TimeInterval(min(self.start, other.start), max(self.end, other.end))]\n",
    "        else:\n",
    "            return [self, other]\n",
    "\n",
    "    def __sub__(self, other) -> list:\n",
    "        \"\"\"\n",
    "        Returns a list of TimeIntervals that are the difference of self and other\n",
    "        \"\"\"\n",
    "        if self.overlaps(other):\n",
    "            if self.start < other.start:\n",
    "                return [TimeInterval(self.start, other.start)]\n",
    "            elif self.end > other.end:\n",
    "                return [TimeInterval(other.end, self.end)]\n",
    "            else:\n",
    "                return []\n",
    "        else:\n",
    "            return [self]\n",
    "\n",
    "\n",
    "\n",
    " \n",
    "\n",
    "\n",
    "\n",
    "class TimeIntervals:\n",
    "    \"\"\"\n",
    "    A class representing a list of time intervals, sorted by start time, and merged if necessary (no overlapping intervals)\n",
    "    \"\"\"\n",
    "\n",
    "    def __init__(self, intervals: list = []):\n",
    "        assert all([isinstance(interval, TimeInterval) for interval in intervals]), 'All elements in the list must be of type TimeInterval'\n",
    "        self._intervals = self._merge(intervals)\n",
    "\n",
    "    def __repr__(self) -> str:\n",
    "        return f'TimeIntervals({self._intervals})'\n",
    "\n",
    "    @staticmethod\n",
    "    def _sort(intervals: list):\n",
    "        intervals.sort(key=lambda x: x.start)\n",
    "        return intervals\n",
    "    \n",
    "    @staticmethod\n",
    "    def _merge(intervals: list):\n",
    "        intervals = TimeIntervals._sort(intervals)\n",
    "        merged = []\n",
    "        for interval in intervals:\n",
    "            if not merged or merged[-1].end < interval.start:\n",
    "                merged.append(interval)\n",
    "            else:\n",
    "                merged[-1].end = max(merged[-1].end, interval.end)\n",
    "        return merged\n",
    "\n",
    "    @property\n",
    "    def intervals(self):\n",
    "        return self._intervals\n",
    "\n",
    "    @intervals.setter\n",
    "    def intervals(self, intervals: list):\n",
    "        self._intervals = TimeIntervals._merge(intervals)\n",
    "\n",
    "    def __eq__(self, other) -> bool:\n",
    "        assert isinstance(other, TimeIntervals), 'compared object must be of type TimeIntervals'\n",
    "        return self._intervals == other._intervals\n",
    "\n",
    "    def add(self, interval: TimeInterval):\n",
    "        self._intervals.append(interval)\n",
    "        self._intervals = TimeIntervals._merge(self._intervals)\n",
    "\n",
    "    def remove(self, interval: TimeInterval):\n",
    "        self._intervals = TimeIntervals._subtract(self._intervals, interval)\n",
    "\n",
    "    @staticmethod\n",
    "    def _subtract(intervals: list, interval: TimeInterval):\n",
    "        intervals = TimeIntervals._sort(intervals)\n",
    "        subtracted = []\n",
    "        for i in intervals:\n",
    "            if i.overlaps(interval):\n",
    "                if i.start < interval.start:\n",
    "                    subtracted.append(TimeInterval(i.start, interval.start))\n",
    "                if i.end > interval.end:\n",
    "                    subtracted.append(TimeInterval(interval.end, i.end))\n",
    "            else:\n",
    "                subtracted.append(i)\n",
    "        return subtracted\n",
    "\n",
    "        \n",
    "\n",
    "        \n",
    "\n",
    "        \n",
    "\n",
    "\n",
    "        \n",
    "\n",
    "\n",
    "    \n",
    "\n",
    "\n",
    "    "
   ]
  },
  {
   "cell_type": "code",
   "execution_count": 94,
   "metadata": {},
   "outputs": [
    {
     "name": "stderr",
     "output_type": "stream",
     "text": [
      "test_contains (__main__.TestTimeInterval) ... ok\n",
      "test_init (__main__.TestTimeInterval) ... ok\n",
      "test_overlaps (__main__.TestTimeInterval) ... ok\n",
      "test_subtraction (__main__.TestTimeInterval) ... ok\n",
      "test_add (__main__.TestTimeIntervals) ... FAIL\n",
      "test_eq (__main__.TestTimeIntervals) ... ok\n",
      "test_init (__main__.TestTimeIntervals) ... ok\n",
      "test_remove (__main__.TestTimeIntervals) ... ok\n",
      "\n",
      "======================================================================\n",
      "FAIL: test_add (__main__.TestTimeIntervals)\n",
      "----------------------------------------------------------------------\n",
      "Traceback (most recent call last):\n",
      "  File \"/var/folders/qm/hc980d_116zfqwx_9dxh3dmm0000gn/T/ipykernel_54317/289041481.py\", line 17, in test_add\n",
      "    self.assertEqual(intervals.intervals, [TimeInterval(datetime(2023, 2, 1, 10), datetime(2023, 2, 1, 13))])\n",
      "AssertionError: Lists differ: [TimeInterval(2023-02-01 10:00:00, 2023-02-01 14:00:00)] != [TimeInterval(2023-02-01 10:00:00, 2023-02-01 13:00:00)]\n",
      "\n",
      "First differing element 0:\n",
      "TimeInterval(2023-02-01 10:00:00, 2023-02-01 14:00:00)\n",
      "TimeInterval(2023-02-01 10:00:00, 2023-02-01 13:00:00)\n",
      "\n",
      "- [TimeInterval(2023-02-01 10:00:00, 2023-02-01 14:00:00)]\n",
      "?                                                ^\n",
      "\n",
      "+ [TimeInterval(2023-02-01 10:00:00, 2023-02-01 13:00:00)]\n",
      "?                                                ^\n",
      "\n",
      "\n",
      "----------------------------------------------------------------------\n",
      "Ran 8 tests in 0.009s\n",
      "\n",
      "FAILED (failures=1)\n"
     ]
    },
    {
     "data": {
      "text/plain": [
       "<unittest.main.TestProgram at 0x12f8a7f10>"
      ]
     },
     "execution_count": 94,
     "metadata": {},
     "output_type": "execute_result"
    }
   ],
   "source": [
    "# Test the TimeInterval classes\n",
    "# 1. test initialization\n",
    "# 2. test overlaps\n",
    "# 3. test contains\n",
    "# 4. test subtraction\n",
    "# 5. test addition\n",
    "\n",
    "class TestTimeInterval(unittest.TestCase):\n",
    "    dt1 = datetime(2023, 2, 1, 10)\n",
    "    dt2 = datetime(2023, 2, 1, 11)\n",
    "    dt3 = datetime(2023, 2, 1, 12)\n",
    "    dt4 = datetime(2023, 2, 1, 13)\n",
    "\n",
    "    ti1 = TimeInterval(dt1, dt2)\n",
    "    ti2 = TimeInterval(dt2, dt3)\n",
    "    ti3 = TimeInterval(dt3, dt4)\n",
    "    ti4 = TimeInterval(dt1, dt4)\n",
    "    ti5 = TimeInterval(dt1, dt3)\n",
    "    ti6 = TimeInterval(dt2, dt4)\n",
    "\n",
    "\n",
    "    def test_init(self):\n",
    "        self.assertEqual(self.ti1.start, self.dt1)\n",
    "        self.assertEqual(self.ti1.end, self.dt2)\n",
    "    \n",
    "    def test_overlaps(self):\n",
    "        self.assertTrue(self.ti1.overlaps(self.ti4))\n",
    "        self.assertTrue(self.ti4.overlaps(self.ti1))\n",
    "        self.assertTrue(self.ti5.overlaps(self.ti6))\n",
    "        self.assertTrue(self.ti6.overlaps(self.ti5))\n",
    "        self.assertFalse(self.ti1.overlaps(self.ti2))\n",
    "        self.assertFalse(self.ti2.overlaps(self.ti1))\n",
    "        self.assertFalse(self.ti1.overlaps(self.ti3))\n",
    "        self.assertFalse(self.ti3.overlaps(self.ti1))\n",
    "\n",
    "\n",
    "    def test_contains(self):\n",
    "        self.assertTrue(self.ti4.contains(self.ti1))\n",
    "        self.assertTrue(self.ti4.contains(self.ti2))\n",
    "        self.assertFalse(self.ti1.contains(self.ti4))\n",
    "        self.assertFalse(self.ti2.contains(self.ti4))\n",
    "        self.assertFalse(self.ti1.contains(self.ti2))\n",
    "        self.assertFalse(self.ti2.contains(self.ti1))\n",
    "        self.assertTrue(self.ti1.contains(self.ti1))\n",
    "\n",
    "    def test_subtraction(self):\n",
    "        self.assertEqual(self.ti1 - self.ti2, [self.ti1])\n",
    "        self.assertEqual(self.ti2 - self.ti1, [self.ti2])\n",
    "        self.assertEqual(self.ti1 - self.ti4, [])\n",
    "        self.assertEqual(self.ti4 - self.ti1, [self.ti6])\n",
    "\n",
    "unittest.main(argv=[''], verbosity=2, exit=False)\n",
    "\n"
   ]
  },
  {
   "cell_type": "code",
   "execution_count": 9,
   "metadata": {},
   "outputs": [
    {
     "name": "stderr",
     "output_type": "stream",
     "text": [
      "test_add (__main__.TestTimeIntervals) ... ok\n",
      "test_eq (__main__.TestTimeIntervals) ... ok\n",
      "test_init (__main__.TestTimeIntervals) ... ok\n",
      "test_remove (__main__.TestTimeIntervals) ... ok\n",
      "\n",
      "----------------------------------------------------------------------\n",
      "Ran 4 tests in 0.004s\n",
      "\n",
      "OK\n"
     ]
    },
    {
     "data": {
      "text/plain": [
       "<unittest.main.TestProgram at 0x1377dc580>"
      ]
     },
     "execution_count": 9,
     "metadata": {},
     "output_type": "execute_result"
    }
   ],
   "source": [
    "# Test the TimeIntervals class\n",
    "# 1. test initialization\n",
    "# 2. test add\n",
    "# 3. test remove\n",
    "class TestTimeIntervals(unittest.TestCase):\n",
    "    iv1 = TimeInterval(datetime(2023, 2, 1, 10), datetime(2023, 2, 1, 12))\n",
    "    iv2 = TimeInterval(datetime(2023, 2, 1, 11), datetime(2023, 2, 1, 13))\n",
    "    iv3 = TimeInterval(datetime(2023, 2, 1, 12), datetime(2023, 2, 1, 14))\n",
    "\n",
    "    def test_init(self):\n",
    "        intervals = TimeIntervals([self.iv1, self.iv2, self.iv3])\n",
    "        self.assertEqual(intervals.intervals, [TimeInterval(datetime(2023, 2, 1, 10), datetime(2023, 2, 1, 14))])\n",
    "\n",
    "    def test_add(self):\n",
    "        intervals = TimeIntervals([self.iv1])\n",
    "        intervals.add(self.iv2)\n",
    "        self.assertEqual(intervals.intervals, [TimeInterval(datetime(2023, 2, 1, 10), datetime(2023, 2, 1, 13))])\n",
    "\n",
    "    def test_remove(self):\n",
    "        intervals = TimeIntervals([self.iv1, self.iv2, self.iv3])\n",
    "        intervals.remove(self.iv2)\n",
    "        self.assertEqual(intervals.intervals, [TimeInterval(datetime(2023, 2, 1, 10), datetime(2023, 2, 1, 11)), TimeInterval(datetime(2023, 2, 1, 13), datetime(2023, 2, 1, 14))])\n",
    "        \n",
    "    def test_eq(self):\n",
    "        intervals1 = TimeIntervals([self.iv1, self.iv2, self.iv3])\n",
    "        intervals2 = TimeIntervals([self.iv1, self.iv3])\n",
    "        self.assertTrue(intervals1 == intervals2)\n",
    "        intervals1.remove(self.iv3)\n",
    "        self.assertFalse(intervals1 == intervals2)\n",
    "\n",
    "unittest.main(argv=[''], verbosity=2, exit=False)\n",
    "\n",
    "\n"
   ]
  },
  {
   "cell_type": "code",
   "execution_count": 16,
   "metadata": {},
   "outputs": [],
   "source": [
    "# Employee class\n",
    "class Employee:\n",
    "    def __init__(self, name: str = \"New Employee\", role: str = \"Uncategorized\"):\n",
    "        self._name = name\n",
    "        self.role = role\n",
    "        self._availability = TimeIntervals() \n",
    "        self.assigned_shifts = []\n",
    "\n",
    "    @property\n",
    "    def name(self):\n",
    "        return self._name\n",
    "\n",
    "    @name.setter\n",
    "    def name(self, name: str):\n",
    "        self._name = name\n",
    "\n",
    "    @property\n",
    "    def availability(self):\n",
    "        return self._availability\n",
    "\n",
    "    @availability.setter\n",
    "    def availability(self, availability: TimeIntervals):\n",
    "        self._availability = availability\n",
    "\n",
    "    @property\n",
    "    def role(self):\n",
    "        return self.role\n",
    "    \n",
    "    @role.setter\n",
    "    def role(self, role: str):\n",
    "        self.role = role\n",
    "    \n",
    "    def _add_availability(self, interval: TimeInterval):\n",
    "        self._availability.add(interval)\n",
    "\n",
    "    def _remove_availability(self, interval: TimeInterval):\n",
    "        self._availability.remove(interval)\n",
    "\n",
    "\n",
    "\n",
    "# Shift class\n",
    "class Shift:\n",
    "    def __init__(self, interval: TimeInterval, min_employees: int, max_employees: int, name: str = \"New shift\", type: str = \"Uncategorized\"):\n",
    "        assert min_employees <= max_employees, \"Minimum number of employees must be less than or equal to the maximum number of employees\"\n",
    "        self._name = name\n",
    "        self._type = type\n",
    "        self._interval = interval\n",
    "        self._min_employees = min_employees\n",
    "        self._max_employees = max_employees\n",
    "        self._assigned_employees = []\n",
    "\n",
    "    @property\n",
    "    def name(self):\n",
    "        return self._name\n",
    "\n",
    "    @name.setter\n",
    "    def name(self, name: str):\n",
    "        self._name = name\n",
    "\n",
    "    @property\n",
    "    def type(self):\n",
    "        return self._type\n",
    "    \n",
    "    @type.setter\n",
    "    def type(self, type: str):\n",
    "        self._type = type\n",
    "    \n",
    "    @property\n",
    "    def interval(self):\n",
    "        return self._interval\n",
    "    \n",
    "    @interval.setter\n",
    "    def interval(self, interval: TimeInterval):\n",
    "        self._interval = interval\n",
    "\n",
    "    @property\n",
    "    def min_employees(self):\n",
    "        return self._min_employees\n",
    "\n",
    "    @min_employees.setter\n",
    "    def min_employees(self, min_employees: int):\n",
    "        self._min_employees = min_employees\n",
    "\n",
    "    @property\n",
    "    def max_employees(self):\n",
    "        return self._max_employees\n",
    "\n",
    "    @max_employees.setter\n",
    "    def max_employees(self, max_employees: int):\n",
    "        self._max_employees = max_employees\n",
    "\n",
    "    @property\n",
    "    def date(self):\n",
    "        return self.interval.start.date()\n",
    "\n",
    "    @property\n",
    "    def duration(self):\n",
    "        return self.interval.end - self.interval.start\n",
    "\n",
    "    def _add_employee(self, employee: Employee):\n",
    "        self._assigned_employees.append(employee)\n",
    "\n",
    "\n",
    "\n",
    "# Schedule class\n",
    "class Schedule:\n",
    "    def __init__(self, start_date: datetime, end_date: datetime, name: str = \"New schedule\"):\n",
    "        self._name = name\n",
    "        self._shifts = []\n",
    "        self._employees = []\n",
    "        self._start_date = start_date\n",
    "        self._end_date = end_date\n",
    "\n",
    "    @property\n",
    "    def name(self):\n",
    "        return self._name\n",
    "\n",
    "    @name.setter\n",
    "    def name(self, name: str):\n",
    "        self._name = name   \n",
    "\n",
    "    @property\n",
    "    def shifts(self):\n",
    "        return self._shifts\n",
    "    \n",
    "    @shifts.setter\n",
    "    def shifts(self, shifts: list):\n",
    "        self._shifts = shifts\n",
    "\n",
    "    @property\n",
    "    def employees(self):\n",
    "        return self._employees\n",
    "\n",
    "    @employees.setter\n",
    "    def employees(self, employees: list):\n",
    "        self._employees = employees\n",
    "\n",
    "    @property\n",
    "    def start_date(self):\n",
    "        return self._start_date\n",
    "\n",
    "    @start_date.setter\n",
    "    def start_date(self, start_date: datetime):\n",
    "        self._start_date = start_date\n",
    "\n",
    "    @property\n",
    "    def end_date(self):\n",
    "        return self._end_date\n",
    "\n",
    "    @end_date.setter\n",
    "    def end_date(self, end_date: datetime):\n",
    "        self._end_date = end_date\n",
    "\n",
    "    \n",
    "\n",
    "\n",
    "    "
   ]
  },
  {
   "cell_type": "code",
   "execution_count": null,
   "metadata": {},
   "outputs": [],
   "source": [
    "# Pseudo code for the scheduling algorithm\n",
    "\n",
    "# schedule = Schedule(start_date, end_date)\n",
    "# # recurring is set to False by default, recurring_interval is set to 1 day by default\n",
    "# shift1 = schedule.create_shift(name, type, interval, min_employees, max_employees, recurring = False, recurring_interval) \n",
    "# # set recurring to True to create a recurring shift with a recurring interval of 1 day until the end of the schedule\n",
    "# shifts = schedule.create_shift(name, type, interval, min_employees, max_employees, recurring = True, recurring_interval = timedelta(days = 1)) \n",
    "# # remove some shifts from the schedule with filter\n",
    "# for shift in shifts:\n",
    "#     if shift.:\n",
    "\n",
    "# employee = schedule.create_employees(name, role) # availability is set to the entire schedule by default\n",
    "# employee.availability.remove(interval) # remove availability from employee \n",
    "# schedule.assign_employees(shift, employee) # manually assign employee to shift, if employee is not available for the shift, an error is raised\n",
    "\n",
    "# # generate schedule based on the constraints of the shifts and employees and return a list of shifts with assigned employees (CP-SAT)\n",
    "# schedule.generate_schedule() \n",
    "\n",
    "# # display the schedule\n",
    "# schedule.display()\n",
    "\n",
    "# # export the schedule to a file, to csv by default\n",
    "# schedule.save()\n",
    "\n",
    "# # load the schedule from a file\n",
    "# schedule.load()\n",
    "\n"
   ]
  }
 ],
 "metadata": {
  "kernelspec": {
   "display_name": "shift",
   "language": "python",
   "name": "python3"
  },
  "language_info": {
   "codemirror_mode": {
    "name": "ipython",
    "version": 3
   },
   "file_extension": ".py",
   "mimetype": "text/x-python",
   "name": "python",
   "nbconvert_exporter": "python",
   "pygments_lexer": "ipython3",
   "version": "3.9.15"
  },
  "orig_nbformat": 4,
  "vscode": {
   "interpreter": {
    "hash": "91871c564c763eb1d5c82ae4f749b96e3dcd94d5076ee842c8c9eaebbb951f3b"
   }
  }
 },
 "nbformat": 4,
 "nbformat_minor": 2
}
