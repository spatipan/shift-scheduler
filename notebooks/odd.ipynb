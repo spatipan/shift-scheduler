{
 "cells": [
  {
   "cell_type": "code",
   "execution_count": 4,
   "metadata": {},
   "outputs": [],
   "source": [
    "from datetime import datetime, timedelta\n",
    "import pandas as pd\n",
    "import plotly.figure_factory as ff\n",
    "from ortools.sat.python import cp_model\n",
    "from bisect import bisect_left, bisect_right\n",
    "import matplotlib.pyplot as plt\n",
    "import numpy as np\n",
    "import plotly.express as px\n",
    "import unittest\n",
    "from src.objects.timeinterval import *\n",
    "from src.utils.utils import *\n",
    "import uuid"
   ]
  },
  {
   "cell_type": "code",
   "execution_count": 42,
   "metadata": {},
   "outputs": [
    {
     "data": {
      "application/vnd.plotly.v1+json": {
       "config": {
        "plotlyServerURL": "https://plot.ly"
       },
       "data": [
        {
         "alignmentgroup": "True",
         "base": [
          "2023-02-01T10:00:00",
          "2023-02-01T12:00:00",
          "2023-02-01T14:00:00"
         ],
         "hovertemplate": "Start=%{base}<br>Finish=%{x}<br>Task=%{y}<extra></extra>",
         "legendgroup": "",
         "marker": {
          "color": "#636efa",
          "pattern": {
           "shape": ""
          }
         },
         "name": "",
         "offsetgroup": "",
         "orientation": "h",
         "showlegend": false,
         "textposition": "auto",
         "type": "bar",
         "x": [
          3600000,
          3600000,
          7200000
         ],
         "xaxis": "x",
         "y": [
          "Time Intervals",
          "Time Intervals",
          "Time Intervals"
         ],
         "yaxis": "y"
        }
       ],
       "layout": {
        "barmode": "overlay",
        "height": 300,
        "legend": {
         "tracegroupgap": 0
        },
        "margin": {
         "b": 0,
         "l": 0,
         "r": 0,
         "t": 30
        },
        "template": {
         "data": {
          "bar": [
           {
            "error_x": {
             "color": "#2a3f5f"
            },
            "error_y": {
             "color": "#2a3f5f"
            },
            "marker": {
             "line": {
              "color": "#E5ECF6",
              "width": 0.5
             },
             "pattern": {
              "fillmode": "overlay",
              "size": 10,
              "solidity": 0.2
             }
            },
            "type": "bar"
           }
          ],
          "barpolar": [
           {
            "marker": {
             "line": {
              "color": "#E5ECF6",
              "width": 0.5
             },
             "pattern": {
              "fillmode": "overlay",
              "size": 10,
              "solidity": 0.2
             }
            },
            "type": "barpolar"
           }
          ],
          "carpet": [
           {
            "aaxis": {
             "endlinecolor": "#2a3f5f",
             "gridcolor": "white",
             "linecolor": "white",
             "minorgridcolor": "white",
             "startlinecolor": "#2a3f5f"
            },
            "baxis": {
             "endlinecolor": "#2a3f5f",
             "gridcolor": "white",
             "linecolor": "white",
             "minorgridcolor": "white",
             "startlinecolor": "#2a3f5f"
            },
            "type": "carpet"
           }
          ],
          "choropleth": [
           {
            "colorbar": {
             "outlinewidth": 0,
             "ticks": ""
            },
            "type": "choropleth"
           }
          ],
          "contour": [
           {
            "colorbar": {
             "outlinewidth": 0,
             "ticks": ""
            },
            "colorscale": [
             [
              0,
              "#0d0887"
             ],
             [
              0.1111111111111111,
              "#46039f"
             ],
             [
              0.2222222222222222,
              "#7201a8"
             ],
             [
              0.3333333333333333,
              "#9c179e"
             ],
             [
              0.4444444444444444,
              "#bd3786"
             ],
             [
              0.5555555555555556,
              "#d8576b"
             ],
             [
              0.6666666666666666,
              "#ed7953"
             ],
             [
              0.7777777777777778,
              "#fb9f3a"
             ],
             [
              0.8888888888888888,
              "#fdca26"
             ],
             [
              1,
              "#f0f921"
             ]
            ],
            "type": "contour"
           }
          ],
          "contourcarpet": [
           {
            "colorbar": {
             "outlinewidth": 0,
             "ticks": ""
            },
            "type": "contourcarpet"
           }
          ],
          "heatmap": [
           {
            "colorbar": {
             "outlinewidth": 0,
             "ticks": ""
            },
            "colorscale": [
             [
              0,
              "#0d0887"
             ],
             [
              0.1111111111111111,
              "#46039f"
             ],
             [
              0.2222222222222222,
              "#7201a8"
             ],
             [
              0.3333333333333333,
              "#9c179e"
             ],
             [
              0.4444444444444444,
              "#bd3786"
             ],
             [
              0.5555555555555556,
              "#d8576b"
             ],
             [
              0.6666666666666666,
              "#ed7953"
             ],
             [
              0.7777777777777778,
              "#fb9f3a"
             ],
             [
              0.8888888888888888,
              "#fdca26"
             ],
             [
              1,
              "#f0f921"
             ]
            ],
            "type": "heatmap"
           }
          ],
          "heatmapgl": [
           {
            "colorbar": {
             "outlinewidth": 0,
             "ticks": ""
            },
            "colorscale": [
             [
              0,
              "#0d0887"
             ],
             [
              0.1111111111111111,
              "#46039f"
             ],
             [
              0.2222222222222222,
              "#7201a8"
             ],
             [
              0.3333333333333333,
              "#9c179e"
             ],
             [
              0.4444444444444444,
              "#bd3786"
             ],
             [
              0.5555555555555556,
              "#d8576b"
             ],
             [
              0.6666666666666666,
              "#ed7953"
             ],
             [
              0.7777777777777778,
              "#fb9f3a"
             ],
             [
              0.8888888888888888,
              "#fdca26"
             ],
             [
              1,
              "#f0f921"
             ]
            ],
            "type": "heatmapgl"
           }
          ],
          "histogram": [
           {
            "marker": {
             "pattern": {
              "fillmode": "overlay",
              "size": 10,
              "solidity": 0.2
             }
            },
            "type": "histogram"
           }
          ],
          "histogram2d": [
           {
            "colorbar": {
             "outlinewidth": 0,
             "ticks": ""
            },
            "colorscale": [
             [
              0,
              "#0d0887"
             ],
             [
              0.1111111111111111,
              "#46039f"
             ],
             [
              0.2222222222222222,
              "#7201a8"
             ],
             [
              0.3333333333333333,
              "#9c179e"
             ],
             [
              0.4444444444444444,
              "#bd3786"
             ],
             [
              0.5555555555555556,
              "#d8576b"
             ],
             [
              0.6666666666666666,
              "#ed7953"
             ],
             [
              0.7777777777777778,
              "#fb9f3a"
             ],
             [
              0.8888888888888888,
              "#fdca26"
             ],
             [
              1,
              "#f0f921"
             ]
            ],
            "type": "histogram2d"
           }
          ],
          "histogram2dcontour": [
           {
            "colorbar": {
             "outlinewidth": 0,
             "ticks": ""
            },
            "colorscale": [
             [
              0,
              "#0d0887"
             ],
             [
              0.1111111111111111,
              "#46039f"
             ],
             [
              0.2222222222222222,
              "#7201a8"
             ],
             [
              0.3333333333333333,
              "#9c179e"
             ],
             [
              0.4444444444444444,
              "#bd3786"
             ],
             [
              0.5555555555555556,
              "#d8576b"
             ],
             [
              0.6666666666666666,
              "#ed7953"
             ],
             [
              0.7777777777777778,
              "#fb9f3a"
             ],
             [
              0.8888888888888888,
              "#fdca26"
             ],
             [
              1,
              "#f0f921"
             ]
            ],
            "type": "histogram2dcontour"
           }
          ],
          "mesh3d": [
           {
            "colorbar": {
             "outlinewidth": 0,
             "ticks": ""
            },
            "type": "mesh3d"
           }
          ],
          "parcoords": [
           {
            "line": {
             "colorbar": {
              "outlinewidth": 0,
              "ticks": ""
             }
            },
            "type": "parcoords"
           }
          ],
          "pie": [
           {
            "automargin": true,
            "type": "pie"
           }
          ],
          "scatter": [
           {
            "fillpattern": {
             "fillmode": "overlay",
             "size": 10,
             "solidity": 0.2
            },
            "type": "scatter"
           }
          ],
          "scatter3d": [
           {
            "line": {
             "colorbar": {
              "outlinewidth": 0,
              "ticks": ""
             }
            },
            "marker": {
             "colorbar": {
              "outlinewidth": 0,
              "ticks": ""
             }
            },
            "type": "scatter3d"
           }
          ],
          "scattercarpet": [
           {
            "marker": {
             "colorbar": {
              "outlinewidth": 0,
              "ticks": ""
             }
            },
            "type": "scattercarpet"
           }
          ],
          "scattergeo": [
           {
            "marker": {
             "colorbar": {
              "outlinewidth": 0,
              "ticks": ""
             }
            },
            "type": "scattergeo"
           }
          ],
          "scattergl": [
           {
            "marker": {
             "colorbar": {
              "outlinewidth": 0,
              "ticks": ""
             }
            },
            "type": "scattergl"
           }
          ],
          "scattermapbox": [
           {
            "marker": {
             "colorbar": {
              "outlinewidth": 0,
              "ticks": ""
             }
            },
            "type": "scattermapbox"
           }
          ],
          "scatterpolar": [
           {
            "marker": {
             "colorbar": {
              "outlinewidth": 0,
              "ticks": ""
             }
            },
            "type": "scatterpolar"
           }
          ],
          "scatterpolargl": [
           {
            "marker": {
             "colorbar": {
              "outlinewidth": 0,
              "ticks": ""
             }
            },
            "type": "scatterpolargl"
           }
          ],
          "scatterternary": [
           {
            "marker": {
             "colorbar": {
              "outlinewidth": 0,
              "ticks": ""
             }
            },
            "type": "scatterternary"
           }
          ],
          "surface": [
           {
            "colorbar": {
             "outlinewidth": 0,
             "ticks": ""
            },
            "colorscale": [
             [
              0,
              "#0d0887"
             ],
             [
              0.1111111111111111,
              "#46039f"
             ],
             [
              0.2222222222222222,
              "#7201a8"
             ],
             [
              0.3333333333333333,
              "#9c179e"
             ],
             [
              0.4444444444444444,
              "#bd3786"
             ],
             [
              0.5555555555555556,
              "#d8576b"
             ],
             [
              0.6666666666666666,
              "#ed7953"
             ],
             [
              0.7777777777777778,
              "#fb9f3a"
             ],
             [
              0.8888888888888888,
              "#fdca26"
             ],
             [
              1,
              "#f0f921"
             ]
            ],
            "type": "surface"
           }
          ],
          "table": [
           {
            "cells": {
             "fill": {
              "color": "#EBF0F8"
             },
             "line": {
              "color": "white"
             }
            },
            "header": {
             "fill": {
              "color": "#C8D4E3"
             },
             "line": {
              "color": "white"
             }
            },
            "type": "table"
           }
          ]
         },
         "layout": {
          "annotationdefaults": {
           "arrowcolor": "#2a3f5f",
           "arrowhead": 0,
           "arrowwidth": 1
          },
          "autotypenumbers": "strict",
          "coloraxis": {
           "colorbar": {
            "outlinewidth": 0,
            "ticks": ""
           }
          },
          "colorscale": {
           "diverging": [
            [
             0,
             "#8e0152"
            ],
            [
             0.1,
             "#c51b7d"
            ],
            [
             0.2,
             "#de77ae"
            ],
            [
             0.3,
             "#f1b6da"
            ],
            [
             0.4,
             "#fde0ef"
            ],
            [
             0.5,
             "#f7f7f7"
            ],
            [
             0.6,
             "#e6f5d0"
            ],
            [
             0.7,
             "#b8e186"
            ],
            [
             0.8,
             "#7fbc41"
            ],
            [
             0.9,
             "#4d9221"
            ],
            [
             1,
             "#276419"
            ]
           ],
           "sequential": [
            [
             0,
             "#0d0887"
            ],
            [
             0.1111111111111111,
             "#46039f"
            ],
            [
             0.2222222222222222,
             "#7201a8"
            ],
            [
             0.3333333333333333,
             "#9c179e"
            ],
            [
             0.4444444444444444,
             "#bd3786"
            ],
            [
             0.5555555555555556,
             "#d8576b"
            ],
            [
             0.6666666666666666,
             "#ed7953"
            ],
            [
             0.7777777777777778,
             "#fb9f3a"
            ],
            [
             0.8888888888888888,
             "#fdca26"
            ],
            [
             1,
             "#f0f921"
            ]
           ],
           "sequentialminus": [
            [
             0,
             "#0d0887"
            ],
            [
             0.1111111111111111,
             "#46039f"
            ],
            [
             0.2222222222222222,
             "#7201a8"
            ],
            [
             0.3333333333333333,
             "#9c179e"
            ],
            [
             0.4444444444444444,
             "#bd3786"
            ],
            [
             0.5555555555555556,
             "#d8576b"
            ],
            [
             0.6666666666666666,
             "#ed7953"
            ],
            [
             0.7777777777777778,
             "#fb9f3a"
            ],
            [
             0.8888888888888888,
             "#fdca26"
            ],
            [
             1,
             "#f0f921"
            ]
           ]
          },
          "colorway": [
           "#636efa",
           "#EF553B",
           "#00cc96",
           "#ab63fa",
           "#FFA15A",
           "#19d3f3",
           "#FF6692",
           "#B6E880",
           "#FF97FF",
           "#FECB52"
          ],
          "font": {
           "color": "#2a3f5f"
          },
          "geo": {
           "bgcolor": "white",
           "lakecolor": "white",
           "landcolor": "#E5ECF6",
           "showlakes": true,
           "showland": true,
           "subunitcolor": "white"
          },
          "hoverlabel": {
           "align": "left"
          },
          "hovermode": "closest",
          "mapbox": {
           "style": "light"
          },
          "paper_bgcolor": "white",
          "plot_bgcolor": "#E5ECF6",
          "polar": {
           "angularaxis": {
            "gridcolor": "white",
            "linecolor": "white",
            "ticks": ""
           },
           "bgcolor": "#E5ECF6",
           "radialaxis": {
            "gridcolor": "white",
            "linecolor": "white",
            "ticks": ""
           }
          },
          "scene": {
           "xaxis": {
            "backgroundcolor": "#E5ECF6",
            "gridcolor": "white",
            "gridwidth": 2,
            "linecolor": "white",
            "showbackground": true,
            "ticks": "",
            "zerolinecolor": "white"
           },
           "yaxis": {
            "backgroundcolor": "#E5ECF6",
            "gridcolor": "white",
            "gridwidth": 2,
            "linecolor": "white",
            "showbackground": true,
            "ticks": "",
            "zerolinecolor": "white"
           },
           "zaxis": {
            "backgroundcolor": "#E5ECF6",
            "gridcolor": "white",
            "gridwidth": 2,
            "linecolor": "white",
            "showbackground": true,
            "ticks": "",
            "zerolinecolor": "white"
           }
          },
          "shapedefaults": {
           "line": {
            "color": "#2a3f5f"
           }
          },
          "ternary": {
           "aaxis": {
            "gridcolor": "white",
            "linecolor": "white",
            "ticks": ""
           },
           "baxis": {
            "gridcolor": "white",
            "linecolor": "white",
            "ticks": ""
           },
           "bgcolor": "#E5ECF6",
           "caxis": {
            "gridcolor": "white",
            "linecolor": "white",
            "ticks": ""
           }
          },
          "title": {
           "x": 0.05
          },
          "xaxis": {
           "automargin": true,
           "gridcolor": "white",
           "linecolor": "white",
           "ticks": "",
           "title": {
            "standoff": 15
           },
           "zerolinecolor": "white",
           "zerolinewidth": 2
          },
          "yaxis": {
           "automargin": true,
           "gridcolor": "white",
           "linecolor": "white",
           "ticks": "",
           "title": {
            "standoff": 15
           },
           "zerolinecolor": "white",
           "zerolinewidth": 2
          }
         }
        },
        "title": {
         "text": "Time Intervals"
        },
        "xaxis": {
         "anchor": "y",
         "domain": [
          0,
          1
         ],
         "showgrid": true,
         "showticklabels": true,
         "type": "date"
        },
        "yaxis": {
         "anchor": "x",
         "autorange": "reversed",
         "domain": [
          0,
          1
         ],
         "showgrid": false,
         "showticklabels": true,
         "title": {
          "text": "Task"
         }
        }
       }
      }
     },
     "metadata": {},
     "output_type": "display_data"
    }
   ],
   "source": [
    "intervals = TimeIntervals([TimeInterval(datetime(2023, 2, 1, 10), datetime(2023, 2, 1, 11)),\n",
    "                           TimeInterval(datetime(2023, 2, 1, 12), datetime(2023, 2, 1, 13)),\n",
    "                           TimeInterval(datetime(2023, 2, 1, 14), datetime(2023, 2, 1, 16))])\n",
    "intervals.visualize_gantt()\n"
   ]
  },
  {
   "cell_type": "code",
   "execution_count": null,
   "metadata": {},
   "outputs": [],
   "source": []
  },
  {
   "cell_type": "code",
   "execution_count": 84,
   "metadata": {},
   "outputs": [],
   "source": [
    "# Create employee class, which contains the employee's name, \n",
    "# and the time intervals that the employee is available for given periods of time\n",
    "# assigned shifts will be stored in a list, which will be updated as the schedule is created\n",
    "# and the employee's availability will be updated as shifts are assigned\n",
    "class Employee:\n",
    "    def __init__(self, name: str, age: int, gender: str,  availability: TimeIntervals):\n",
    "        self.name = name\n",
    "        self.age = age\n",
    "        self.gender = gender\n",
    "        self.availability = availability\n",
    "        self.assigned_shifts = []\n",
    "    \n",
    "    # add a shift to the employee's assigned shifts\n",
    "    def add_shift(self, shift):\n",
    "        self.assigned_shifts.append(shift)\n",
    "    \n",
    "    # remove a shift from the employee's assigned shifts\n",
    "    def remove_shift(self, shift):\n",
    "        self.assigned_shifts.remove(shift)\n",
    "        \n",
    "\n",
    "    \n"
   ]
  },
  {
   "cell_type": "code",
   "execution_count": 103,
   "metadata": {},
   "outputs": [],
   "source": [
    "# Create Shift class, which contains the shift's name,\n",
    "# the time interval that the shift takes place,\n",
    "# the number of employees that are needed for the shift,\n",
    "# the assigned employees to the shift,\n",
    "# and the number of employees that are currently assigned to the shift, which is initially 0\n",
    "# the workload coefficient of the shift, \n",
    "# shift_type is a string that can be anything, but it is used to differentiate and group shifts together\n",
    "# The shift's name is optional, and if it is not provided, it will be set to the shift's time interval\n",
    "# The number of employees that are needed for the shift is optional, and if it is not provided, it will be set to 1\n",
    "# The workload coefficient of the shift is optional, and if it is not provided, it will be set to 1\n",
    "\n",
    "class Shift:\n",
    "    def __init__(self, interval: TimeInterval, name: str = \"New shift\", min_employees: int = 1, max_employees: int = 1, shift_name: str = None, shift_type: str = \"Uncategorized\", workload_coefficient: int = 1):\n",
    "        self.name = name\n",
    "        assert min_employees <= max_employees, \"Minimum number of employees cannot be greater than maximum number of employees\"\n",
    "        self.interval = interval\n",
    "        self.min_employees = min_employees\n",
    "        self.max_employees = max_employees\n",
    "        self.assigned_employees = []\n",
    "        self.num_assigned_employees = 0\n",
    "        self.shift_name = shift_name\n",
    "        self.shift_type = shift_type\n",
    "        self.workload_coefficient = workload_coefficient\n",
    "        self.start_time = self.interval.start_time\n",
    "        self.end_time = self.interval.end_time\n",
    "        self.duration = self.interval.duration()\n",
    "\n",
    "        if self.shift_name is None:\n",
    "            self.shift_name = self.interval.get_start_time().strftime(\"%H:%M\") + \" - \" + self.interval.get_end_time().strftime(\"%H:%M\")\n",
    "\n",
    "    def __str__(self):\n",
    "        return self.shift_name\n",
    "\n",
    "    def __repr__(self):\n",
    "        return str(self)\n",
    "\n",
    "    def add_assigned_employee(self, employee: Employee):\n",
    "        # check if the employee is already assigned to the shift\n",
    "        if employee in self.assigned_employees:\n",
    "            raise Exception(\"Employee is already assigned to this shift\")\n",
    "        # check if the shift is full\n",
    "        if self.num_assigned_employees == self.max_employees:\n",
    "            raise Exception(\"Shift is full\")\n",
    "\n",
    "        self.assigned_employees.append(employee)\n",
    "        self.num_assigned_employees += 1\n",
    "\n",
    "        # update the employee's availability, assigned shifts\n",
    "        employee.availability = employee.availability - self.interval\n",
    "        employee.add_shift(self)\n",
    "\n",
    "    def remove_assigned_employee(self, employee: Employee):\n",
    "        # check if the employee is assigned to the shift\n",
    "        if employee not in self.assigned_employees:\n",
    "            raise Exception(\"Employee is not assigned to this shift\")\n",
    "\n",
    "        self.assigned_employees.remove(employee)\n",
    "        self.num_assigned_employees -= 1\n",
    "\n",
    "        # update the employee's availability, assigned shifts\n",
    "        employee.availability = employee.availability + self.interval\n",
    "        employee.remove_shift(self)\n",
    "    \n",
    "    def reset_employees(self):\n",
    "        for employee in self.assigned_employees:\n",
    "            employee.availability = employee.availability + self.interval\n",
    "            employee.remove_shift(self)\n",
    "\n",
    "        self.assigned_employees = []\n",
    "        self.num_assigned_employees = 0\n",
    "\n",
    "    def change_shift_type(self, shift_type: str):\n",
    "        self.shift_type = shift_type\n",
    "\n",
    "    def change_workload_coefficient(self, workload_coefficient: int):\n",
    "        self.workload_coefficient = workload_coefficient\n",
    "\n",
    "    def change_min_employees(self, min_employees: int):\n",
    "        self.min_employees = min_employees\n",
    "\n",
    "    def change_max_employees(self, max_employees: int):\n",
    "        self.max_employees = max_employees\n",
    "\n",
    "    def change_shift_name(self, shift_name: str):\n",
    "        self.shift_name = shift_name\n",
    "\n",
    "    def change_interval(self, interval: TimeInterval):\n",
    "        self.interval = interval\n",
    "        self.start_time = self.interval.start_time\n",
    "        self.end_time = self.interval.end_time\n",
    "        self.duration = self.interval.duration()\n",
    "\n",
    "\n",
    "# RecurringShift class, inherits from Shift class and adds a recurrence interval\n",
    "# The recurrence interval is a Timedelta object that represents the interval between each recurrence of the shift\n",
    "# The recurrence interval is mandatory\n",
    "class RecurringShift(Shift):\n",
    "    def __init__(self, interval: TimeInterval, recurrence_interval: timedelta, name: str = \"New shift\", min_employees: int = 1, max_employees: int = 1, shift_name: str = None, shift_type: str = \"Uncategorized\", workload_coefficient: int = 1):\n",
    "        super().__init__(interval, name, min_employees, max_employees, shift_name, shift_type, workload_coefficient)\n",
    "        self.recurrence_interval = recurrence_interval\n",
    "\n",
    "    def __str__(self):\n",
    "        return self.shift_name\n",
    "\n",
    "    def __repr__(self):\n",
    "        return str(self)\n",
    "\n",
    "\n",
    "    # def get_recurrence_intervals(self, start_date: datetime, end_date: datetime):\n",
    "    #     # get the start and end time of the shift\n",
    "    #     start_time = self.interval.start_time\n",
    "    #     end_time = self.interval.end_time\n",
    "\n",
    "    #     # get the start and end date of the recurrence interval\n",
    "    #     recurrence_start_date = start_date\n",
    "    #     recurrence_end_date = end_date\n",
    "\n",
    "    #     # get the start and end time of the recurrence interval\n",
    "    #     recurrence_start_time = recurrence_start_date + start_time - start_date\n",
    "    #     recurrence_end_time = recurrence_end_date + end_time - end_date\n",
    "\n",
    "    #     # get the recurrence interval\n",
    "    #     recurrence_interval = self.recurrence_interval\n",
    "\n",
    "    #     # get the recurrence intervals\n",
    "    #     recurrence_intervals = TimeIntervals()\n",
    "    #     recurrence_intervals.add_interval(TimeInterval(recurrence_start_time, recurrence_end_time))\n",
    "    #     while recurrence_end_time < end_date:\n",
    "    #         recurrence_start_time += recurrence_interval\n",
    "    #         recurrence_end_time += recurrence_interval\n",
    "    #         recurrence_intervals.add_interval(TimeInterval(recurrence_start_time, recurrence_end_time))\n",
    "\n",
    "    #     return recurrence_intervals\n",
    "\n",
    "    # def get_recurrence_shifts(self, start_date: datetime, end_date: datetime):\n",
    "    #     # get the recurrence intervals\n",
    "    #     recurrence_intervals = self.get_recurrence_intervals(start_date, end_date)\n",
    "\n",
    "    #     # get the recurrence shifts\n",
    "    #     recurrence_shifts = []\n",
    "    #     for recurrence_interval in recurrence_intervals:\n",
    "    #         recurrence_shift = Shift(recurrence_interval, self.name, self.min_employees, self.max_employees, self.shift_name, self.shift_type, self.workload_coefficient)\n",
    "    #         recurrence_shifts.append(recurrence_shift)\n",
    "\n",
    "    #     return recurrence_shifts\n",
    "\n",
    "    # def change_recurrence_interval(self, recurrence_interval: timedelta):\n",
    "    #     self.recurrence_interval = recurrence_interval\n",
    "\n",
    "\n"
   ]
  },
  {
   "cell_type": "code",
   "execution_count": 38,
   "metadata": {},
   "outputs": [],
   "source": [
    "s1 = Shift(TimeInterval(datetime(2023, 2, 1, 10), datetime(2023, 2, 1, 11)), shift_name=\"Shift 1\")"
   ]
  },
  {
   "cell_type": "code",
   "execution_count": 108,
   "metadata": {},
   "outputs": [],
   "source": [
    "# Create Schedule class, which contains the schedule's name,\n",
    "# the list of employees, the list of shifts, and the list of shift types that are in the schedule\n",
    "# the schedule's name is optional, and if it is not provided, it will be set to 'New Schedule'\n",
    "class Schedule:\n",
    "    def __init__(self, name: str = 'New Schedule'):\n",
    "        self.name = name\n",
    "        self.employees = []\n",
    "        self.shifts = []\n",
    "        self.shift_types = []\n",
    "        self.start_time = None\n",
    "        self.end_time = None\n",
    "   \n",
    "    # add an employee to the schedule\n",
    "    def add_employee(self, name: str = None, gender: str = None, availability: TimeInterval = None):\n",
    "        # if the employee's name is not provided, set it to 'Employee {len(self.employees) + 1}'\n",
    "        if name is None:\n",
    "            name = \"Employee \" + str(len(self.employees) + 1)\n",
    "        \n",
    "        # if availability is not provided, set it to the entire schedule\n",
    "        if (availability is None) and (self.start_time is not None) and (self.end_time is not None):\n",
    "            availability = TimeInterval(self.start_time, self.end_time)\n",
    "        \n",
    "        # create the employee\n",
    "        employee = Employee(name = name, age = None, gender = None, availability = availability)\n",
    "        self.employees.append(employee)\n",
    "\n",
    "        return employee\n",
    "\n",
    "    def add_shift(self, interval: TimeInterval, name: str = None, shift_name: str = None, shift_type: str = \"Uncategorized\", min_employees: int = 1, max_employees: int = 1, workload_coefficient: int = 1, recurring: bool = False, recurring_interval: timedelta = None, end_date: datetime = None):\n",
    "        # if the shift's name is not provided, set it to 'Shift {len(self.shifts) + 1}'\n",
    "        if name is None:\n",
    "            name = \"Shift \" + str(len(self.shifts) + 1)        \n",
    "    \n",
    "        # update the schedule's start and end times if the shift's interval is outside of the schedule's interval\n",
    "        if self.start_time is None:\n",
    "            self.start_time = interval.start_time\n",
    "        elif interval.start_time < self.start_time:\n",
    "            self.start_time = interval.start_time\n",
    "        if self.end_time is None:\n",
    "            self.end_time = interval.end_time\n",
    "        elif interval.end_time > self.end_time:\n",
    "            self.end_time = interval.end_time\n",
    "\n",
    "        # create the shift, single or recurring\n",
    "        if recurring:\n",
    "            if recurring_interval is None:\n",
    "                raise Exception(\"Recurring interval must be provided if shift is recurring\")\n",
    "            shifts = []\n",
    "            for i in range(0, (end_date - interval.start_time).days, recurring_interval.days):\n",
    "                shift = Shift(interval + timedelta(days = i), name, shift_name, shift_type, min_employees, max_employees, workload_coefficient)\n",
    "                shifts.append(shift)\n",
    "        else:\n",
    "            shift = Shift(interval, name, shift_name, shift_type, min_employees, max_employees, workload_coefficient)\n",
    "            shifts = [shift]\n",
    "\n",
    "        # add the shift to the list of shifts\n",
    "        self.shifts.extend(shifts)\n",
    "                \n",
    "\n",
    "        # add the shift type to the list of shift types if it is not already in the list\n",
    "        if shift_type not in self.shift_types:\n",
    "            self.shift_types.append(shift_type)\n",
    "\n",
    "        return shifts\n",
    "    \n",
    "\n",
    "    # reset the schedule\n",
    "    def reset(self):\n",
    "        self.employees = []\n",
    "        self.shifts = []\n",
    "        self.shift_types = []\n",
    "\n",
    "    # change the schedule's name\n",
    "    def change_name(self, name: str):\n",
    "        self.name = name\n",
    "\n",
    "    # show the schedule in a format that is easy to read (shift name, type, assigned employees)\n",
    "    def show(self):\n",
    "        print(self.name)\n",
    "        print(\"Start time:\", self.start_time)\n",
    "        print(\"End time:\", self.end_time)\n",
    "        for shift in self.shifts:\n",
    "            print(shift.shift_name, shift.shift_type, shift.assigned_employees)\n",
    "\n",
    "\n",
    "\n",
    "\n",
    "    \n"
   ]
  },
  {
   "cell_type": "code",
   "execution_count": 109,
   "metadata": {},
   "outputs": [
    {
     "name": "stdout",
     "output_type": "stream",
     "text": [
      "['Patipan', 'Pattaraporn']\n",
      "['Shift 1']\n"
     ]
    }
   ],
   "source": [
    "# Test the schedule\n",
    "schedule = Schedule('Test Schedule')\n",
    "\n",
    "# Add employees\n",
    "employee1 = schedule.add_employee()\n",
    "employee1.name = \"Patipan\"\n",
    "employee1.availability = TimeInterval(datetime(2023, 2, 1, 10), datetime(2023, 2, 1, 11))\n",
    "employee2 = schedule.add_employee()\n",
    "employee2.name = \"Pattaraporn\"\n",
    "\n",
    "\n",
    "# check employee  in schedule\n",
    "print([employee.name for employee in schedule.employees])\n",
    "\n",
    "# Add shifts\n",
    "shift1 = schedule.add_shift(TimeInterval(datetime(2023, 2, 1, 10), datetime(2023, 2, 1, 11)), shift_name=\"Shift 1\")\n",
    "\n",
    "# check shift in schedule\n",
    "print([shift.name for shift in schedule.shifts])\n",
    "\n"
   ]
  }
 ],
 "metadata": {
  "kernelspec": {
   "display_name": "shift",
   "language": "python",
   "name": "python3"
  },
  "language_info": {
   "codemirror_mode": {
    "name": "ipython",
    "version": 3
   },
   "file_extension": ".py",
   "mimetype": "text/x-python",
   "name": "python",
   "nbconvert_exporter": "python",
   "pygments_lexer": "ipython3",
   "version": "3.9.15"
  },
  "orig_nbformat": 4,
  "vscode": {
   "interpreter": {
    "hash": "91871c564c763eb1d5c82ae4f749b96e3dcd94d5076ee842c8c9eaebbb951f3b"
   }
  }
 },
 "nbformat": 4,
 "nbformat_minor": 2
}
